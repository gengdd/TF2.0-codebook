{
 "cells": [
  {
   "cell_type": "code",
   "execution_count": 1,
   "metadata": {},
   "outputs": [],
   "source": [
    "import tensorflow as tf"
   ]
  },
  {
   "cell_type": "markdown",
   "metadata": {},
   "source": [
    "###  自动求导"
   ]
  },
  {
   "cell_type": "code",
   "execution_count": 4,
   "metadata": {},
   "outputs": [
    {
     "name": "stdout",
     "output_type": "stream",
     "text": [
      "2.0.0-beta0\n",
      "False\n"
     ]
    }
   ],
   "source": [
    "print(tf.__version__)\n",
    "print(tf.test.is_gpu_available())"
   ]
  },
  {
   "cell_type": "code",
   "execution_count": 5,
   "metadata": {},
   "outputs": [
    {
     "name": "stdout",
     "output_type": "stream",
     "text": [
      "tf.Tensor(3.0, shape=(), dtype=float32)\n"
     ]
    }
   ],
   "source": [
    "a=tf.constant(1.)\n",
    "b=tf.constant(2.)\n",
    "print(a+b)"
   ]
  },
  {
   "cell_type": "code",
   "execution_count": 6,
   "metadata": {},
   "outputs": [
    {
     "name": "stderr",
     "output_type": "stream",
     "text": [
      "WARNING: Logging before flag parsing goes to stderr.\n",
      "W0802 19:32:22.542203 139840374912768 deprecation.py:323] From /home/gengdd/anaconda3/lib/python3.7/site-packages/tensorflow/python/ops/math_grad.py:1205: add_dispatch_support.<locals>.wrapper (from tensorflow.python.ops.array_ops) is deprecated and will be removed in a future version.\n",
      "Instructions for updating:\n",
      "Use tf.where in 2.0, which has the same broadcast rule as np.where\n"
     ]
    },
    {
     "name": "stdout",
     "output_type": "stream",
     "text": [
      "tf.Tensor(4.0, shape=(), dtype=float32) tf.Tensor(1.0, shape=(), dtype=float32) tf.Tensor(1.0, shape=(), dtype=float32)\n"
     ]
    }
   ],
   "source": [
    "x=tf.constant(1.)\n",
    "a=tf.constant(2.)\n",
    "b=tf.constant(3.)\n",
    "c=tf.constant(4.)\n",
    "\n",
    "with tf.GradientTape() as tape:\n",
    "    tape.watch([a,b,c])\n",
    "    y=a**2*x+b*x+c\n",
    "    \n",
    "[dy_da,dy_db,dy_dc]=tape.gradient(y,[a,b,c])\n",
    "print(dy_da,dy_db,dy_dc)"
   ]
  },
  {
   "cell_type": "markdown",
   "metadata": {},
   "source": [
    "### 数据类型"
   ]
  },
  {
   "cell_type": "code",
   "execution_count": 22,
   "metadata": {},
   "outputs": [
    {
     "data": {
      "text/plain": [
       "<tf.Tensor: id=94722, shape=(), dtype=int32, numpy=1>"
      ]
     },
     "execution_count": 22,
     "metadata": {},
     "output_type": "execute_result"
    }
   ],
   "source": [
    "tf.constant(1)"
   ]
  },
  {
   "cell_type": "code",
   "execution_count": 23,
   "metadata": {},
   "outputs": [
    {
     "data": {
      "text/plain": [
       "<tf.Tensor: id=94724, shape=(), dtype=float32, numpy=1.0>"
      ]
     },
     "execution_count": 23,
     "metadata": {},
     "output_type": "execute_result"
    }
   ],
   "source": [
    "tf.constant(1.)"
   ]
  },
  {
   "cell_type": "code",
   "execution_count": 24,
   "metadata": {},
   "outputs": [
    {
     "data": {
      "text/plain": [
       "<tf.Tensor: id=94726, shape=(), dtype=float64, numpy=1.0>"
      ]
     },
     "execution_count": 24,
     "metadata": {},
     "output_type": "execute_result"
    }
   ],
   "source": [
    "tf.constant(1,dtype=tf.double)"
   ]
  },
  {
   "cell_type": "code",
   "execution_count": 25,
   "metadata": {},
   "outputs": [
    {
     "data": {
      "text/plain": [
       "<tf.Tensor: id=94728, shape=(), dtype=string, numpy=b'hello world'>"
      ]
     },
     "execution_count": 25,
     "metadata": {},
     "output_type": "execute_result"
    }
   ],
   "source": [
    "tf.constant('hello world')"
   ]
  },
  {
   "cell_type": "code",
   "execution_count": 43,
   "metadata": {},
   "outputs": [
    {
     "name": "stdout",
     "output_type": "stream",
     "text": [
      "/job:localhost/replica:0/task:0/device:CPU:0\n",
      "tf.Tensor([0 1 2 3], shape=(4,), dtype=int32)\n",
      "[0 1 2 3]\n"
     ]
    }
   ],
   "source": [
    "with tf.device('cpu'):\n",
    "    a=tf.range(4)\n",
    "    \n",
    "print(a.device)\n",
    "print(a)\n",
    "print(a.numpy())"
   ]
  },
  {
   "cell_type": "code",
   "execution_count": 34,
   "metadata": {},
   "outputs": [
    {
     "data": {
      "text/plain": [
       "1"
      ]
     },
     "execution_count": 34,
     "metadata": {},
     "output_type": "execute_result"
    }
   ],
   "source": [
    "a.ndim"
   ]
  },
  {
   "cell_type": "code",
   "execution_count": 35,
   "metadata": {},
   "outputs": [
    {
     "data": {
      "text/plain": [
       "<tf.Tensor: id=94750, shape=(), dtype=int32, numpy=1>"
      ]
     },
     "execution_count": 35,
     "metadata": {},
     "output_type": "execute_result"
    }
   ],
   "source": [
    "tf.rank(a)"
   ]
  },
  {
   "cell_type": "code",
   "execution_count": 36,
   "metadata": {},
   "outputs": [
    {
     "data": {
      "text/plain": [
       "<tf.Tensor: id=94755, shape=(), dtype=int32, numpy=3>"
      ]
     },
     "execution_count": 36,
     "metadata": {},
     "output_type": "execute_result"
    }
   ],
   "source": [
    "tf.rank(tf.ones([3,4,2]))"
   ]
  },
  {
   "cell_type": "code",
   "execution_count": 41,
   "metadata": {},
   "outputs": [
    {
     "data": {
      "text/plain": [
       "array([[[1., 1.],\n",
       "        [1., 1.],\n",
       "        [1., 1.],\n",
       "        [1., 1.]],\n",
       "\n",
       "       [[1., 1.],\n",
       "        [1., 1.],\n",
       "        [1., 1.],\n",
       "        [1., 1.]],\n",
       "\n",
       "       [[1., 1.],\n",
       "        [1., 1.],\n",
       "        [1., 1.],\n",
       "        [1., 1.]]], dtype=float32)"
      ]
     },
     "execution_count": 41,
     "metadata": {},
     "output_type": "execute_result"
    }
   ],
   "source": [
    "tf.ones([3,4,2]).numpy()"
   ]
  },
  {
   "cell_type": "code",
   "execution_count": 42,
   "metadata": {},
   "outputs": [
    {
     "name": "stdout",
     "output_type": "stream",
     "text": [
      "[0 1 2 3 4]\n",
      "tf.Tensor([0 1 2 3 4], shape=(5,), dtype=int64)\n"
     ]
    }
   ],
   "source": [
    "import numpy as np\n",
    "\n",
    "a=np.arange(5)\n",
    "print(a)\n",
    "aa=tf.convert_to_tensor(a)\n",
    "print(aa)"
   ]
  },
  {
   "cell_type": "code",
   "execution_count": 45,
   "metadata": {},
   "outputs": [
    {
     "name": "stdout",
     "output_type": "stream",
     "text": [
      "tf.Tensor([0. 1. 2. 3. 4.], shape=(5,), dtype=float32)\n"
     ]
    }
   ],
   "source": [
    "aaa=tf.cast(aa,dtype=tf.float32)\n",
    "print(aaa)"
   ]
  },
  {
   "cell_type": "code",
   "execution_count": 46,
   "metadata": {},
   "outputs": [
    {
     "name": "stdout",
     "output_type": "stream",
     "text": [
      "tf.Tensor([False  True], shape=(2,), dtype=bool)\n"
     ]
    }
   ],
   "source": [
    "b=tf.constant([0,1])\n",
    "print(tf.cast(b,dtype=tf.bool))"
   ]
  },
  {
   "cell_type": "code",
   "execution_count": 47,
   "metadata": {},
   "outputs": [
    {
     "name": "stdout",
     "output_type": "stream",
     "text": [
      "<dtype: 'int32'>\n",
      "Variable:0\n"
     ]
    }
   ],
   "source": [
    "a=tf.range(5)\n",
    "b=tf.Variable(a)\n",
    "print(b.dtype)\n",
    "print(b.name)"
   ]
  },
  {
   "cell_type": "code",
   "execution_count": 48,
   "metadata": {},
   "outputs": [
    {
     "name": "stdout",
     "output_type": "stream",
     "text": [
      "input_data:0\n",
      "True\n"
     ]
    }
   ],
   "source": [
    "b=tf.Variable(a,name='input_data')\n",
    "print(b.name)\n",
    "print(b.trainable)"
   ]
  },
  {
   "cell_type": "markdown",
   "metadata": {},
   "source": [
    "### 创建Tensor"
   ]
  },
  {
   "cell_type": "code",
   "execution_count": 51,
   "metadata": {},
   "outputs": [
    {
     "data": {
      "text/plain": [
       "<tf.Tensor: id=94805, shape=(2, 3), dtype=float64, numpy=\n",
       "array([[1., 1., 1.],\n",
       "       [1., 1., 1.]])>"
      ]
     },
     "execution_count": 51,
     "metadata": {},
     "output_type": "execute_result"
    }
   ],
   "source": [
    "tf.convert_to_tensor(np.ones([2,3]))"
   ]
  },
  {
   "cell_type": "code",
   "execution_count": 53,
   "metadata": {},
   "outputs": [
    {
     "name": "stdout",
     "output_type": "stream",
     "text": [
      "tf.Tensor([1 2], shape=(2,), dtype=int32)\n",
      "tf.Tensor([1. 2.], shape=(2,), dtype=float32)\n",
      "tf.Tensor(\n",
      "[[1]\n",
      " [2]], shape=(2, 1), dtype=int32)\n"
     ]
    }
   ],
   "source": [
    "print(tf.convert_to_tensor([1,2]))\n",
    "print(tf.convert_to_tensor([1,2.]))\n",
    "print(tf.convert_to_tensor([[1],[2]]))"
   ]
  },
  {
   "cell_type": "code",
   "execution_count": 56,
   "metadata": {},
   "outputs": [
    {
     "data": {
      "text/plain": [
       "<tf.Tensor: id=94827, shape=(1,), dtype=float32, numpy=array([0.], dtype=float32)>"
      ]
     },
     "execution_count": 56,
     "metadata": {},
     "output_type": "execute_result"
    }
   ],
   "source": [
    "tf.zeros([1])"
   ]
  },
  {
   "cell_type": "code",
   "execution_count": 57,
   "metadata": {},
   "outputs": [
    {
     "data": {
      "text/plain": [
       "<tf.Tensor: id=94831, shape=(2, 2), dtype=float32, numpy=\n",
       "array([[0., 0.],\n",
       "       [0., 0.]], dtype=float32)>"
      ]
     },
     "execution_count": 57,
     "metadata": {},
     "output_type": "execute_result"
    }
   ],
   "source": [
    "tf.zeros([2,2])"
   ]
  },
  {
   "cell_type": "code",
   "execution_count": 59,
   "metadata": {},
   "outputs": [
    {
     "data": {
      "text/plain": [
       "<tf.Tensor: id=94839, shape=(2, 3, 3), dtype=float32, numpy=\n",
       "array([[[0., 0., 0.],\n",
       "        [0., 0., 0.],\n",
       "        [0., 0., 0.]],\n",
       "\n",
       "       [[0., 0., 0.],\n",
       "        [0., 0., 0.],\n",
       "        [0., 0., 0.]]], dtype=float32)>"
      ]
     },
     "execution_count": 59,
     "metadata": {},
     "output_type": "execute_result"
    }
   ],
   "source": [
    "tf.zeros([2,3,3])"
   ]
  },
  {
   "cell_type": "code",
   "execution_count": 60,
   "metadata": {},
   "outputs": [
    {
     "data": {
      "text/plain": [
       "<tf.Tensor: id=94844, shape=(2, 3, 3), dtype=float32, numpy=\n",
       "array([[[0., 0., 0.],\n",
       "        [0., 0., 0.],\n",
       "        [0., 0., 0.]],\n",
       "\n",
       "       [[0., 0., 0.],\n",
       "        [0., 0., 0.],\n",
       "        [0., 0., 0.]]], dtype=float32)>"
      ]
     },
     "execution_count": 60,
     "metadata": {},
     "output_type": "execute_result"
    }
   ],
   "source": [
    "a=tf.zeros([2,3,3])\n",
    "tf.zeros_like(a)"
   ]
  },
  {
   "cell_type": "code",
   "execution_count": 61,
   "metadata": {},
   "outputs": [
    {
     "data": {
      "text/plain": [
       "<tf.Tensor: id=94848, shape=(2, 3), dtype=float32, numpy=\n",
       "array([[1., 1., 1.],\n",
       "       [1., 1., 1.]], dtype=float32)>"
      ]
     },
     "execution_count": 61,
     "metadata": {},
     "output_type": "execute_result"
    }
   ],
   "source": [
    "tf.ones([2,3])"
   ]
  },
  {
   "cell_type": "code",
   "execution_count": 64,
   "metadata": {},
   "outputs": [
    {
     "data": {
      "text/plain": [
       "<tf.Tensor: id=94856, shape=(2, 3), dtype=float32, numpy=\n",
       "array([[1., 1., 1.],\n",
       "       [1., 1., 1.]], dtype=float32)>"
      ]
     },
     "execution_count": 64,
     "metadata": {},
     "output_type": "execute_result"
    }
   ],
   "source": [
    "tf.fill([2,3],1.)"
   ]
  },
  {
   "cell_type": "code",
   "execution_count": 65,
   "metadata": {},
   "outputs": [
    {
     "data": {
      "text/plain": [
       "<tf.Tensor: id=94860, shape=(2, 3), dtype=int32, numpy=\n",
       "array([[9, 9, 9],\n",
       "       [9, 9, 9]], dtype=int32)>"
      ]
     },
     "execution_count": 65,
     "metadata": {},
     "output_type": "execute_result"
    }
   ],
   "source": [
    "tf.fill([2,3],9)"
   ]
  },
  {
   "cell_type": "code",
   "execution_count": 66,
   "metadata": {},
   "outputs": [
    {
     "data": {
      "text/plain": [
       "<tf.Tensor: id=94867, shape=(2, 2), dtype=float32, numpy=\n",
       "array([[-1.0641457 , -0.5535518 ],\n",
       "       [-0.8210061 , -0.72732884]], dtype=float32)>"
      ]
     },
     "execution_count": 66,
     "metadata": {},
     "output_type": "execute_result"
    }
   ],
   "source": [
    "tf.random.normal([2,2])"
   ]
  },
  {
   "cell_type": "code",
   "execution_count": 67,
   "metadata": {},
   "outputs": [
    {
     "data": {
      "text/plain": [
       "<tf.Tensor: id=94874, shape=(2, 2), dtype=float32, numpy=\n",
       "array([[0.72426045, 2.4615374 ],\n",
       "       [2.5403519 , 0.17680568]], dtype=float32)>"
      ]
     },
     "execution_count": 67,
     "metadata": {},
     "output_type": "execute_result"
    }
   ],
   "source": [
    "tf.random.normal([2,2],mean=1,stddev=1)"
   ]
  },
  {
   "cell_type": "code",
   "execution_count": 68,
   "metadata": {},
   "outputs": [
    {
     "data": {
      "text/plain": [
       "<tf.Tensor: id=94881, shape=(2, 2), dtype=float32, numpy=\n",
       "array([[ 1.3481885 , -0.44612297],\n",
       "       [ 0.5362661 ,  1.0703357 ]], dtype=float32)>"
      ]
     },
     "execution_count": 68,
     "metadata": {},
     "output_type": "execute_result"
    }
   ],
   "source": [
    "tf.random.truncated_normal([2,2],mean=0,stddev=1)"
   ]
  },
  {
   "cell_type": "code",
   "execution_count": 69,
   "metadata": {},
   "outputs": [
    {
     "data": {
      "text/plain": [
       "<tf.Tensor: id=94889, shape=(2, 2), dtype=float32, numpy=\n",
       "array([[0.55060744, 0.9095324 ],\n",
       "       [0.24752343, 0.66867256]], dtype=float32)>"
      ]
     },
     "execution_count": 69,
     "metadata": {},
     "output_type": "execute_result"
    }
   ],
   "source": [
    "tf.random.uniform([2,2],minval=0,maxval=1)"
   ]
  },
  {
   "cell_type": "code",
   "execution_count": 71,
   "metadata": {},
   "outputs": [
    {
     "data": {
      "text/plain": [
       "<tf.Tensor: id=94900, shape=(10,), dtype=int32, numpy=array([1, 6, 9, 7, 5, 4, 3, 2, 8, 0], dtype=int32)>"
      ]
     },
     "execution_count": 71,
     "metadata": {},
     "output_type": "execute_result"
    }
   ],
   "source": [
    "idx=tf.range(10)\n",
    "idx=tf.random.shuffle(idx)\n",
    "idx"
   ]
  },
  {
   "cell_type": "code",
   "execution_count": 75,
   "metadata": {},
   "outputs": [
    {
     "name": "stdout",
     "output_type": "stream",
     "text": [
      "tf.Tensor(\n",
      "[[ 1.0152639  -2.260799    0.52656907 ... -0.8163732  -0.81900936\n",
      "   0.11866292]\n",
      " [-0.3901685  -0.6993162   1.5206238  ...  1.4228816   0.35651082\n",
      "   0.6910408 ]\n",
      " [ 0.27518043  2.4305701   1.027862   ... -1.2805071  -2.4497166\n",
      "   0.7667424 ]\n",
      " ...\n",
      " [ 0.2846264  -1.1687261   0.08107454 ... -0.09495079 -1.023807\n",
      "  -0.09348065]\n",
      " [-2.4458618   0.1447182   1.3588252  ... -1.0025566  -0.533949\n",
      "   0.38310874]\n",
      " [-0.32595125 -1.7671152  -0.64729685 ... -1.2961153  -0.7744424\n",
      "   0.75361866]], shape=(10, 784), dtype=float32)\n",
      "tf.Tensor([0 0 0 2 4 6 0 9 4 7], shape=(10,), dtype=int32)\n"
     ]
    }
   ],
   "source": [
    "a=tf.random.normal([10,784])\n",
    "b=tf.random.uniform([10],maxval=10,dtype=tf.int32)\n",
    "print(a)\n",
    "print(b)"
   ]
  },
  {
   "cell_type": "code",
   "execution_count": 76,
   "metadata": {},
   "outputs": [
    {
     "name": "stdout",
     "output_type": "stream",
     "text": [
      "tf.Tensor([0 0 7 9 6 4 2 0 4 0], shape=(10,), dtype=int32)\n"
     ]
    }
   ],
   "source": [
    "a=tf.gather(a,idx)\n",
    "b=tf.gather(b,idx)\n",
    "print(b)"
   ]
  },
  {
   "cell_type": "code",
   "execution_count": 78,
   "metadata": {},
   "outputs": [
    {
     "data": {
      "text/plain": [
       "<tf.Tensor: id=94958, shape=(4, 10), dtype=float32, numpy=\n",
       "array([[4.0469575e-01, 9.2921770e-01, 4.1759014e-04, 3.2329094e-01,\n",
       "        5.4404545e-01, 2.7431214e-01, 1.7958105e-01, 2.7135420e-01,\n",
       "        1.3883722e-01, 6.2074101e-01],\n",
       "       [1.5753698e-01, 6.6221392e-01, 9.3854547e-01, 5.2017927e-02,\n",
       "        3.5655856e-01, 5.8797967e-01, 6.1648059e-01, 3.0059445e-01,\n",
       "        4.9997139e-01, 1.9407868e-01],\n",
       "       [7.8890395e-01, 6.3019967e-01, 1.9117987e-01, 4.4864571e-01,\n",
       "        4.5918643e-01, 5.4137683e-01, 8.9670312e-01, 8.3162677e-01,\n",
       "        5.1220119e-01, 5.0796390e-02],\n",
       "       [6.6180015e-01, 8.3417606e-01, 6.2290764e-01, 3.7976789e-01,\n",
       "        1.8034613e-01, 4.0719628e-02, 7.9171169e-01, 4.2064381e-01,\n",
       "        1.9878030e-02, 5.5677438e-01]], dtype=float32)>"
      ]
     },
     "execution_count": 78,
     "metadata": {},
     "output_type": "execute_result"
    }
   ],
   "source": [
    "out=tf.random.uniform([4,10])\n",
    "out"
   ]
  },
  {
   "cell_type": "code",
   "execution_count": 79,
   "metadata": {},
   "outputs": [
    {
     "data": {
      "text/plain": [
       "<tf.Tensor: id=94967, shape=(4, 10), dtype=float32, numpy=\n",
       "array([[1., 0., 0., 0., 0., 0., 0., 0., 0., 0.],\n",
       "       [0., 1., 0., 0., 0., 0., 0., 0., 0., 0.],\n",
       "       [0., 0., 1., 0., 0., 0., 0., 0., 0., 0.],\n",
       "       [0., 0., 0., 1., 0., 0., 0., 0., 0., 0.]], dtype=float32)>"
      ]
     },
     "execution_count": 79,
     "metadata": {},
     "output_type": "execute_result"
    }
   ],
   "source": [
    "y=tf.range(4)\n",
    "y=tf.one_hot(y,depth=10)\n",
    "y"
   ]
  },
  {
   "cell_type": "code",
   "execution_count": 84,
   "metadata": {},
   "outputs": [
    {
     "name": "stdout",
     "output_type": "stream",
     "text": [
      "tf.Tensor([0.22040601 0.22533882 0.4139545  0.30548555], shape=(4,), dtype=float32)\n",
      "tf.Tensor(0.2912962, shape=(), dtype=float32)\n"
     ]
    }
   ],
   "source": [
    "loss=tf.keras.losses.mse(y,out)\n",
    "print(loss)\n",
    "loss=tf.reduce_mean(loss)\n",
    "print(loss)"
   ]
  },
  {
   "cell_type": "code",
   "execution_count": 87,
   "metadata": {},
   "outputs": [
    {
     "data": {
      "text/plain": [
       "<tf.Variable 'kernel:0' shape=(8, 10) dtype=float32, numpy=\n",
       "array([[ 0.5719726 ,  0.24599779,  0.29336727, -0.02593428, -0.18497282,\n",
       "         0.05996782,  0.5436239 ,  0.13891923, -0.03889108,  0.332743  ],\n",
       "       [-0.49222988, -0.33220947, -0.29562375,  0.48547125, -0.4692032 ,\n",
       "        -0.13565427,  0.14520681,  0.23270029, -0.2604374 ,  0.18330687],\n",
       "       [-0.06283289,  0.17672765, -0.26519254,  0.37222314,  0.00633842,\n",
       "         0.57690024, -0.5432485 , -0.5134624 ,  0.3354388 ,  0.07562935],\n",
       "       [-0.533784  ,  0.03903037, -0.48408   ,  0.5746106 ,  0.3225286 ,\n",
       "         0.472517  , -0.04908842,  0.13172776, -0.30608276,  0.20166826],\n",
       "       [-0.5620696 ,  0.48569536, -0.45736384,  0.2630489 ,  0.11902297,\n",
       "        -0.00460702, -0.2907103 , -0.04419589, -0.25074828, -0.4149307 ],\n",
       "       [ 0.37649167, -0.12120545, -0.21953744, -0.30252847, -0.4108992 ,\n",
       "         0.0932619 ,  0.05316275, -0.4583672 , -0.44644207,  0.03186482],\n",
       "       [-0.0961436 ,  0.27769953,  0.3262192 ,  0.23609489, -0.28789106,\n",
       "         0.23734206,  0.39470828, -0.12107164, -0.055112  ,  0.33069283],\n",
       "       [-0.4782169 ,  0.37863654,  0.03562617, -0.24352312, -0.5117068 ,\n",
       "        -0.25476176,  0.03036708, -0.42401004,  0.09815401, -0.23082   ]],\n",
       "      dtype=float32)>"
      ]
     },
     "execution_count": 87,
     "metadata": {},
     "output_type": "execute_result"
    }
   ],
   "source": [
    "net=layers.Dense(10)\n",
    "net.build((4,8))\n",
    "net.kernel"
   ]
  },
  {
   "cell_type": "code",
   "execution_count": 88,
   "metadata": {},
   "outputs": [
    {
     "data": {
      "text/plain": [
       "<tf.Variable 'bias:0' shape=(10,) dtype=float32, numpy=array([0., 0., 0., 0., 0., 0., 0., 0., 0., 0.], dtype=float32)>"
      ]
     },
     "execution_count": 88,
     "metadata": {},
     "output_type": "execute_result"
    }
   ],
   "source": [
    "net.bias"
   ]
  },
  {
   "cell_type": "code",
   "execution_count": 90,
   "metadata": {},
   "outputs": [
    {
     "data": {
      "text/plain": [
       "TensorShape([4, 30, 30, 16])"
      ]
     },
     "execution_count": 90,
     "metadata": {},
     "output_type": "execute_result"
    }
   ],
   "source": [
    "x=tf.random.normal((4,32,32,3))\n",
    "net=layers.Conv2D(16,kernel_size=3,)\n",
    "net(x).shape"
   ]
  },
  {
   "cell_type": "markdown",
   "metadata": {},
   "source": [
    "### 索引与切片"
   ]
  },
  {
   "cell_type": "code",
   "execution_count": 94,
   "metadata": {},
   "outputs": [
    {
     "data": {
      "text/plain": [
       "<tf.Tensor: id=95140, shape=(5, 3), dtype=float32, numpy=\n",
       "array([[1., 1., 1.],\n",
       "       [1., 1., 1.],\n",
       "       [1., 1., 1.],\n",
       "       [1., 1., 1.],\n",
       "       [1., 1., 1.]], dtype=float32)>"
      ]
     },
     "execution_count": 94,
     "metadata": {},
     "output_type": "execute_result"
    }
   ],
   "source": [
    "a=tf.ones((1,5,5,3))\n",
    "a[0][0]"
   ]
  },
  {
   "cell_type": "code",
   "execution_count": 95,
   "metadata": {},
   "outputs": [
    {
     "data": {
      "text/plain": [
       "<tf.Tensor: id=95153, shape=(3,), dtype=float32, numpy=array([1., 1., 1.], dtype=float32)>"
      ]
     },
     "execution_count": 95,
     "metadata": {},
     "output_type": "execute_result"
    }
   ],
   "source": [
    "a[0][0][0]"
   ]
  },
  {
   "cell_type": "code",
   "execution_count": 96,
   "metadata": {},
   "outputs": [
    {
     "data": {
      "text/plain": [
       "<tf.Tensor: id=95170, shape=(), dtype=float32, numpy=1.0>"
      ]
     },
     "execution_count": 96,
     "metadata": {},
     "output_type": "execute_result"
    }
   ],
   "source": [
    "a[0][0][0][1]"
   ]
  },
  {
   "cell_type": "code",
   "execution_count": 104,
   "metadata": {},
   "outputs": [
    {
     "name": "stdout",
     "output_type": "stream",
     "text": [
      "(28, 28, 3)\n",
      "(28, 3)\n",
      "(28, 3)\n",
      "(3,)\n",
      "()\n",
      "(28, 28, 3)\n",
      "(28, 3)\n",
      "(4, 28, 28)\n",
      "(4, 28, 3)\n",
      "(2, 28, 28, 3)\n",
      "(4, 14, 14, 3)\n",
      "(4, 14, 14, 3)\n"
     ]
    }
   ],
   "source": [
    "a=tf.random.normal([4,28,28,3])\n",
    "print(a[1].shape)\n",
    "print(a[1,2].shape)\n",
    "print(a[1][2].shape)\n",
    "print(a[1,2,3].shape)\n",
    "print(a[1,2,3,2].shape)\n",
    "\n",
    "print(a[0,:,:,:].shape)\n",
    "print(a[0,1,:,:].shape)\n",
    "print(a[:,:,:,0].shape)\n",
    "print(a[:,0,:,:].shape)\n",
    "\n",
    "print(a[0:2,:,:,:].shape)\n",
    "print(a[:,0:28:2,0:28:2,:].shape)\n",
    "print(a[:,:14,14:,:].shape)"
   ]
  },
  {
   "cell_type": "code",
   "execution_count": 98,
   "metadata": {},
   "outputs": [
    {
     "name": "stdout",
     "output_type": "stream",
     "text": [
      "tf.Tensor([9], shape=(1,), dtype=int32)\n",
      "tf.Tensor([8 9], shape=(2,), dtype=int32)\n",
      "tf.Tensor([0 1], shape=(2,), dtype=int32)\n",
      "tf.Tensor([0 1 2 3 4 5 6 7 8], shape=(9,), dtype=int32)\n"
     ]
    }
   ],
   "source": [
    "a=tf.range(10)\n",
    "print(a[-1:])\n",
    "print(a[-2:])\n",
    "print(a[:2])\n",
    "print(a[:-1])"
   ]
  },
  {
   "cell_type": "code",
   "execution_count": 106,
   "metadata": {},
   "outputs": [
    {
     "data": {
      "text/plain": [
       "TensorShape([2, 35, 8])"
      ]
     },
     "execution_count": 106,
     "metadata": {},
     "output_type": "execute_result"
    }
   ],
   "source": [
    "a=tf.random.normal([4,35,8])\n",
    "tf.gather(a,axis=0,indices=[2,3]).shape"
   ]
  },
  {
   "cell_type": "code",
   "execution_count": 108,
   "metadata": {},
   "outputs": [
    {
     "data": {
      "text/plain": [
       "TensorShape([4, 35, 8])"
      ]
     },
     "execution_count": 108,
     "metadata": {},
     "output_type": "execute_result"
    }
   ],
   "source": [
    "tf.gather(a,axis=0,indices=[2,1,3,0]).shape"
   ]
  },
  {
   "cell_type": "code",
   "execution_count": 109,
   "metadata": {},
   "outputs": [
    {
     "data": {
      "text/plain": [
       "TensorShape([4, 5, 8])"
      ]
     },
     "execution_count": 109,
     "metadata": {},
     "output_type": "execute_result"
    }
   ],
   "source": [
    "tf.gather(a,axis=1,indices=[2,3,7,9,16]).shape"
   ]
  },
  {
   "cell_type": "code",
   "execution_count": 110,
   "metadata": {},
   "outputs": [
    {
     "data": {
      "text/plain": [
       "TensorShape([35, 8])"
      ]
     },
     "execution_count": 110,
     "metadata": {},
     "output_type": "execute_result"
    }
   ],
   "source": [
    "tf.gather_nd(a,[0]).shape"
   ]
  },
  {
   "cell_type": "code",
   "execution_count": 111,
   "metadata": {},
   "outputs": [
    {
     "data": {
      "text/plain": [
       "TensorShape([8])"
      ]
     },
     "execution_count": 111,
     "metadata": {},
     "output_type": "execute_result"
    }
   ],
   "source": [
    "tf.gather_nd(a,[0,1]).shape"
   ]
  },
  {
   "cell_type": "code",
   "execution_count": 112,
   "metadata": {},
   "outputs": [
    {
     "data": {
      "text/plain": [
       "TensorShape([])"
      ]
     },
     "execution_count": 112,
     "metadata": {},
     "output_type": "execute_result"
    }
   ],
   "source": [
    "tf.gather_nd(a,[0,1,2]).shape"
   ]
  },
  {
   "cell_type": "code",
   "execution_count": 115,
   "metadata": {},
   "outputs": [
    {
     "data": {
      "text/plain": [
       "TensorShape([1])"
      ]
     },
     "execution_count": 115,
     "metadata": {},
     "output_type": "execute_result"
    }
   ],
   "source": [
    "tf.gather_nd(a,[[0,1,2]]).shape"
   ]
  },
  {
   "cell_type": "code",
   "execution_count": 116,
   "metadata": {},
   "outputs": [
    {
     "name": "stdout",
     "output_type": "stream",
     "text": [
      "(2, 8)\n",
      "(3, 8)\n",
      "(3,)\n",
      "(1, 3)\n"
     ]
    }
   ],
   "source": [
    "print(tf.gather_nd(a,[[0,0],[1,1]]).shape)\n",
    "print(tf.gather_nd(a,[[0,0],[1,1],[2,2]]).shape)\n",
    "print(tf.gather_nd(a,[[0,0,0],[1,1,1],[2,2,2]]).shape)\n",
    "print(tf.gather_nd(a,[[[0,0,0],[1,1,1],[2,2,2]]]).shape)"
   ]
  },
  {
   "cell_type": "code",
   "execution_count": 121,
   "metadata": {},
   "outputs": [
    {
     "data": {
      "text/plain": [
       "TensorShape([2, 28, 28, 3])"
      ]
     },
     "execution_count": 121,
     "metadata": {},
     "output_type": "execute_result"
    }
   ],
   "source": [
    "a=tf.random.normal([4,28,28,3])\n",
    "tf.boolean_mask(a,mask=[True,True,False,False]).shape"
   ]
  },
  {
   "cell_type": "code",
   "execution_count": 122,
   "metadata": {},
   "outputs": [
    {
     "data": {
      "text/plain": [
       "TensorShape([4, 28, 28, 2])"
      ]
     },
     "execution_count": 122,
     "metadata": {},
     "output_type": "execute_result"
    }
   ],
   "source": [
    "tf.boolean_mask(a,mask=[True,True,False],axis=3).shape"
   ]
  },
  {
   "cell_type": "code",
   "execution_count": 123,
   "metadata": {},
   "outputs": [
    {
     "data": {
      "text/plain": [
       "<tf.Tensor: id=95665, shape=(3, 4), dtype=float32, numpy=\n",
       "array([[1., 1., 1., 1.],\n",
       "       [1., 1., 1., 1.],\n",
       "       [1., 1., 1., 1.]], dtype=float32)>"
      ]
     },
     "execution_count": 123,
     "metadata": {},
     "output_type": "execute_result"
    }
   ],
   "source": [
    "a=tf.ones([2,3,4])\n",
    "tf.boolean_mask(a,mask=[[True,False,False],[False,True,True]])"
   ]
  },
  {
   "cell_type": "markdown",
   "metadata": {},
   "source": [
    "### 维度变换"
   ]
  },
  {
   "cell_type": "code",
   "execution_count": 124,
   "metadata": {},
   "outputs": [
    {
     "name": "stdout",
     "output_type": "stream",
     "text": [
      "(4, 28, 28, 3)\n",
      "4\n"
     ]
    }
   ],
   "source": [
    "a=tf.random.normal([4,28,28,3])\n",
    "print(a.shape)\n",
    "print(a.ndim)"
   ]
  },
  {
   "cell_type": "code",
   "execution_count": 125,
   "metadata": {},
   "outputs": [
    {
     "data": {
      "text/plain": [
       "TensorShape([4, 784, 3])"
      ]
     },
     "execution_count": 125,
     "metadata": {},
     "output_type": "execute_result"
    }
   ],
   "source": [
    "tf.reshape(a,[4,784,3]).shape"
   ]
  },
  {
   "cell_type": "code",
   "execution_count": 126,
   "metadata": {},
   "outputs": [
    {
     "data": {
      "text/plain": [
       "TensorShape([4, 784, 3])"
      ]
     },
     "execution_count": 126,
     "metadata": {},
     "output_type": "execute_result"
    }
   ],
   "source": [
    "tf.reshape(a,[4,-1,3]).shape"
   ]
  },
  {
   "cell_type": "code",
   "execution_count": 127,
   "metadata": {},
   "outputs": [
    {
     "data": {
      "text/plain": [
       "TensorShape([4, 2352])"
      ]
     },
     "execution_count": 127,
     "metadata": {},
     "output_type": "execute_result"
    }
   ],
   "source": [
    "tf.reshape(a,[4,784*3]).shape"
   ]
  },
  {
   "cell_type": "code",
   "execution_count": 128,
   "metadata": {},
   "outputs": [
    {
     "data": {
      "text/plain": [
       "TensorShape([4, 2352])"
      ]
     },
     "execution_count": 128,
     "metadata": {},
     "output_type": "execute_result"
    }
   ],
   "source": [
    "tf.reshape(a,[4,-1]).shape"
   ]
  },
  {
   "cell_type": "code",
   "execution_count": 130,
   "metadata": {},
   "outputs": [
    {
     "name": "stdout",
     "output_type": "stream",
     "text": [
      "(4, 3, 2, 1)\n",
      "(1, 2, 3, 4)\n",
      "(4, 3, 1, 2)\n"
     ]
    }
   ],
   "source": [
    "a=tf.random.normal((4,3,2,1))\n",
    "\n",
    "print(a.shape)\n",
    "print(tf.transpose(a).shape)\n",
    "print(tf.transpose(a,perm=[0,1,3,2]).shape)"
   ]
  },
  {
   "cell_type": "code",
   "execution_count": 131,
   "metadata": {},
   "outputs": [
    {
     "data": {
      "text/plain": [
       "TensorShape([1, 4, 35, 8])"
      ]
     },
     "execution_count": 131,
     "metadata": {},
     "output_type": "execute_result"
    }
   ],
   "source": [
    "a=tf.random.normal([4,35,8])\n",
    "tf.expand_dims(a,axis=0).shape"
   ]
  },
  {
   "cell_type": "code",
   "execution_count": 132,
   "metadata": {},
   "outputs": [
    {
     "data": {
      "text/plain": [
       "TensorShape([4, 35, 8, 1])"
      ]
     },
     "execution_count": 132,
     "metadata": {},
     "output_type": "execute_result"
    }
   ],
   "source": [
    "tf.expand_dims(a,axis=3).shape"
   ]
  },
  {
   "cell_type": "code",
   "execution_count": 133,
   "metadata": {},
   "outputs": [
    {
     "data": {
      "text/plain": [
       "TensorShape([4, 35, 1, 8])"
      ]
     },
     "execution_count": 133,
     "metadata": {},
     "output_type": "execute_result"
    }
   ],
   "source": [
    "tf.expand_dims(a,axis=2).shape"
   ]
  },
  {
   "cell_type": "code",
   "execution_count": 135,
   "metadata": {},
   "outputs": [
    {
     "name": "stdout",
     "output_type": "stream",
     "text": [
      "(2, 1, 3)\n",
      "(1, 2, 3)\n",
      "(2, 3)\n"
     ]
    }
   ],
   "source": [
    "a=tf.zeros([1,2,1,3])\n",
    "print(tf.squeeze(a,axis=0).shape)\n",
    "print(tf.squeeze(a,axis=2).shape)\n",
    "print(tf.squeeze(a).shape)"
   ]
  },
  {
   "cell_type": "markdown",
   "metadata": {},
   "source": [
    "### Broadcasting"
   ]
  },
  {
   "cell_type": "code",
   "execution_count": 143,
   "metadata": {},
   "outputs": [
    {
     "name": "stdout",
     "output_type": "stream",
     "text": [
      "(4, 32, 32, 3)\n",
      "(4, 32, 32, 3)\n",
      "(4, 32, 32, 3)\n",
      "(4, 32, 32, 3)\n",
      "(4, 32, 32, 3)\n"
     ]
    }
   ],
   "source": [
    "x=tf.random.normal([4,32,32,3])\n",
    "\n",
    "print((x+tf.random.normal([3])).shape)\n",
    "print((x+tf.random.normal([32,32,1])).shape)\n",
    "print((x+tf.random.normal([32,1])).shape)\n",
    "print((x+tf.random.normal([4,1,1,1])).shape)\n",
    "print((x+tf.random.normal([32,1,1])).shape)"
   ]
  },
  {
   "cell_type": "code",
   "execution_count": 145,
   "metadata": {},
   "outputs": [
    {
     "data": {
      "text/plain": [
       "<tf.Tensor: id=95945, shape=(2, 3, 4), dtype=float32, numpy=\n",
       "array([[[1., 1., 1., 1.],\n",
       "        [1., 1., 1., 1.],\n",
       "        [1., 1., 1., 1.]],\n",
       "\n",
       "       [[1., 1., 1., 1.],\n",
       "        [1., 1., 1., 1.],\n",
       "        [1., 1., 1., 1.]]], dtype=float32)>"
      ]
     },
     "execution_count": 145,
     "metadata": {},
     "output_type": "execute_result"
    }
   ],
   "source": [
    "a=tf.ones([3,4])\n",
    "\n",
    "a1=tf.broadcast_to(a,[2,3,4])\n",
    "a1"
   ]
  },
  {
   "cell_type": "code",
   "execution_count": 147,
   "metadata": {},
   "outputs": [
    {
     "name": "stdout",
     "output_type": "stream",
     "text": [
      "(1, 3, 4)\n"
     ]
    },
    {
     "data": {
      "text/plain": [
       "<tf.Tensor: id=95952, shape=(2, 3, 4), dtype=float32, numpy=\n",
       "array([[[1., 1., 1., 1.],\n",
       "        [1., 1., 1., 1.],\n",
       "        [1., 1., 1., 1.]],\n",
       "\n",
       "       [[1., 1., 1., 1.],\n",
       "        [1., 1., 1., 1.],\n",
       "        [1., 1., 1., 1.]]], dtype=float32)>"
      ]
     },
     "execution_count": 147,
     "metadata": {},
     "output_type": "execute_result"
    }
   ],
   "source": [
    "a2=tf.expand_dims(a,axis=0)\n",
    "print(a2.shape)\n",
    "a2=tf.tile(a2,[2,1,1])\n",
    "a2"
   ]
  },
  {
   "cell_type": "code",
   "execution_count": 148,
   "metadata": {},
   "outputs": [
    {
     "name": "stdout",
     "output_type": "stream",
     "text": [
      "tf.Tensor(\n",
      "[[ 0.15966819 -0.54989266 -0.61711645]\n",
      " [ 1.0568006   0.4434742  -0.5989949 ]], shape=(2, 3), dtype=float32)\n",
      "tf.Tensor(\n",
      "[[[ 0.15966819 -0.54989266 -0.61711645]\n",
      "  [ 1.0568006   0.4434742  -0.5989949 ]]\n",
      "\n",
      " [[ 0.15966819 -0.54989266 -0.61711645]\n",
      "  [ 1.0568006   0.4434742  -0.5989949 ]]], shape=(2, 2, 3), dtype=float32)\n"
     ]
    }
   ],
   "source": [
    "a=tf.random.normal([2,3])\n",
    "b=tf.broadcast_to(a,[2,2,3])\n",
    "print(a)\n",
    "print(b)"
   ]
  },
  {
   "cell_type": "markdown",
   "metadata": {},
   "source": [
    "### 数学运算"
   ]
  },
  {
   "cell_type": "code",
   "execution_count": 151,
   "metadata": {},
   "outputs": [
    {
     "name": "stdout",
     "output_type": "stream",
     "text": [
      "tf.Tensor(\n",
      "[[3. 3.]\n",
      " [3. 3.]], shape=(2, 2), dtype=float32)\n",
      "tf.Tensor(\n",
      "[[-1. -1.]\n",
      " [-1. -1.]], shape=(2, 2), dtype=float32)\n",
      "tf.Tensor(\n",
      "[[2. 2.]\n",
      " [2. 2.]], shape=(2, 2), dtype=float32)\n",
      "tf.Tensor(\n",
      "[[0.5 0.5]\n",
      " [0.5 0.5]], shape=(2, 2), dtype=float32)\n",
      "tf.Tensor(\n",
      "[[0. 0.]\n",
      " [0. 0.]], shape=(2, 2), dtype=float32)\n",
      "tf.Tensor(\n",
      "[[1. 1.]\n",
      " [1. 1.]], shape=(2, 2), dtype=float32)\n"
     ]
    }
   ],
   "source": [
    "b=tf.fill([2,2],2.)\n",
    "a=tf.ones([2,2])\n",
    "\n",
    "print(a+b)\n",
    "print(a-b)\n",
    "print(a*b)\n",
    "print(a/b)\n",
    "print(a//b)\n",
    "print(a%b)"
   ]
  },
  {
   "cell_type": "code",
   "execution_count": 152,
   "metadata": {},
   "outputs": [
    {
     "data": {
      "text/plain": [
       "<tf.Tensor: id=96008, shape=(2, 2), dtype=float32, numpy=\n",
       "array([[0., 0.],\n",
       "       [0., 0.]], dtype=float32)>"
      ]
     },
     "execution_count": 152,
     "metadata": {},
     "output_type": "execute_result"
    }
   ],
   "source": [
    "tf.math.log(a)"
   ]
  },
  {
   "cell_type": "code",
   "execution_count": 154,
   "metadata": {},
   "outputs": [
    {
     "name": "stdout",
     "output_type": "stream",
     "text": [
      "tf.Tensor(\n",
      "[[2.7182817 2.7182817]\n",
      " [2.7182817 2.7182817]], shape=(2, 2), dtype=float32)\n",
      "tf.Tensor(\n",
      "[[2.7182817 2.7182817]\n",
      " [2.7182817 2.7182817]], shape=(2, 2), dtype=float32)\n"
     ]
    }
   ],
   "source": [
    "print(tf.math.exp(a))\n",
    "print(tf.exp(a))"
   ]
  },
  {
   "cell_type": "code",
   "execution_count": 155,
   "metadata": {},
   "outputs": [
    {
     "data": {
      "text/plain": [
       "<tf.Tensor: id=96020, shape=(), dtype=float32, numpy=3.0>"
      ]
     },
     "execution_count": 155,
     "metadata": {},
     "output_type": "execute_result"
    }
   ],
   "source": [
    "tf.math.log(8.)/tf.math.log(2.)"
   ]
  },
  {
   "cell_type": "code",
   "execution_count": 156,
   "metadata": {},
   "outputs": [
    {
     "name": "stdout",
     "output_type": "stream",
     "text": [
      "tf.Tensor(\n",
      "[[8. 8.]\n",
      " [8. 8.]], shape=(2, 2), dtype=float32)\n",
      "tf.Tensor(\n",
      "[[8. 8.]\n",
      " [8. 8.]], shape=(2, 2), dtype=float32)\n",
      "tf.Tensor(\n",
      "[[1.4142135 1.4142135]\n",
      " [1.4142135 1.4142135]], shape=(2, 2), dtype=float32)\n"
     ]
    }
   ],
   "source": [
    "print(tf.pow(b,3))\n",
    "print(b**3)\n",
    "\n",
    "print(tf.sqrt(b))"
   ]
  },
  {
   "cell_type": "code",
   "execution_count": 160,
   "metadata": {},
   "outputs": [
    {
     "name": "stdout",
     "output_type": "stream",
     "text": [
      "tf.Tensor(\n",
      "[[4. 4.]\n",
      " [4. 4.]], shape=(2, 2), dtype=float32)\n",
      "tf.Tensor(\n",
      "[[4. 4.]\n",
      " [4. 4.]], shape=(2, 2), dtype=float32)\n",
      "tf.Tensor(\n",
      "[[2. 2.]\n",
      " [2. 2.]], shape=(2, 2), dtype=float32)\n",
      "tf.Tensor(\n",
      "[[2. 2.]\n",
      " [2. 2.]], shape=(2, 2), dtype=float32)\n"
     ]
    }
   ],
   "source": [
    "print(a@b)\n",
    "print(tf.matmul(a,b))\n",
    "print(a*b)\n",
    "print(tf.multiply(a,b))"
   ]
  },
  {
   "cell_type": "code",
   "execution_count": 161,
   "metadata": {},
   "outputs": [
    {
     "name": "stdout",
     "output_type": "stream",
     "text": [
      "tf.Tensor(\n",
      "[[[6. 6. 6. 6. 6.]\n",
      "  [6. 6. 6. 6. 6.]]\n",
      "\n",
      " [[6. 6. 6. 6. 6.]\n",
      "  [6. 6. 6. 6. 6.]]\n",
      "\n",
      " [[6. 6. 6. 6. 6.]\n",
      "  [6. 6. 6. 6. 6.]]\n",
      "\n",
      " [[6. 6. 6. 6. 6.]\n",
      "  [6. 6. 6. 6. 6.]]], shape=(4, 2, 5), dtype=float32)\n"
     ]
    }
   ],
   "source": [
    "a=tf.ones([4,2,3])\n",
    "b=tf.fill([4,3,5],2.)\n",
    "print(a@b)"
   ]
  },
  {
   "cell_type": "code",
   "execution_count": 162,
   "metadata": {},
   "outputs": [
    {
     "name": "stdout",
     "output_type": "stream",
     "text": [
      "tf.Tensor(\n",
      "[[[3. 3. 3. 3. 3.]\n",
      "  [3. 3. 3. 3. 3.]]\n",
      "\n",
      " [[3. 3. 3. 3. 3.]\n",
      "  [3. 3. 3. 3. 3.]]\n",
      "\n",
      " [[3. 3. 3. 3. 3.]\n",
      "  [3. 3. 3. 3. 3.]]\n",
      "\n",
      " [[3. 3. 3. 3. 3.]\n",
      "  [3. 3. 3. 3. 3.]]], shape=(4, 2, 5), dtype=float32)\n"
     ]
    }
   ],
   "source": [
    "a=tf.ones([4,2,3])\n",
    "b=tf.ones([3,5])\n",
    "bb=tf.broadcast_to(b,[4,3,5])\n",
    "print(a@bb)"
   ]
  },
  {
   "cell_type": "code",
   "execution_count": 163,
   "metadata": {},
   "outputs": [
    {
     "name": "stdout",
     "output_type": "stream",
     "text": [
      "tf.Tensor(\n",
      "[[2.1]\n",
      " [2.1]\n",
      " [2.1]\n",
      " [2.1]], shape=(4, 1), dtype=float32)\n",
      "tf.Tensor(\n",
      "[[2.1]\n",
      " [2.1]\n",
      " [2.1]\n",
      " [2.1]], shape=(4, 1), dtype=float32)\n"
     ]
    }
   ],
   "source": [
    "x=tf.ones([4,2])\n",
    "W=tf.ones([2,1])\n",
    "b=tf.constant(0.1)\n",
    "\n",
    "out=x@W+b\n",
    "print(out)\n",
    "\n",
    "out=tf.nn.relu(out)\n",
    "print(out)"
   ]
  },
  {
   "cell_type": "markdown",
   "metadata": {},
   "source": [
    "### 合并与分割"
   ]
  },
  {
   "cell_type": "code",
   "execution_count": 179,
   "metadata": {},
   "outputs": [
    {
     "name": "stdout",
     "output_type": "stream",
     "text": [
      "(6, 35, 8)\n",
      "(4, 38, 8)\n"
     ]
    }
   ],
   "source": [
    "a=tf.ones([4,35,8])\n",
    "b=tf.ones([2,35,8])\n",
    "\n",
    "c=tf.concat([a,b],axis=0)\n",
    "print(c.shape)\n",
    "\n",
    "a=tf.ones([4,35,8])\n",
    "b=tf.ones([4,3,8])\n",
    "\n",
    "c=tf.concat([a,b],axis=1)\n",
    "print(c.shape)"
   ]
  },
  {
   "cell_type": "code",
   "execution_count": 42,
   "metadata": {},
   "outputs": [
    {
     "name": "stdout",
     "output_type": "stream",
     "text": [
      "(2, 4, 35, 8)\n",
      "(4, 35, 8, 2)\n",
      "(4, 2, 35, 8)\n"
     ]
    }
   ],
   "source": [
    "a=tf.random.normal([4,35,8])\n",
    "b=tf.random.normal([4,35,8])\n",
    "\n",
    "print(tf.stack([a,b],axis=0).shape)\n",
    "print(tf.stack([a,b],axis=3).shape)\n",
    "print(tf.stack([a,b],axis=1).shape)"
   ]
  },
  {
   "cell_type": "code",
   "execution_count": 187,
   "metadata": {},
   "outputs": [
    {
     "name": "stdout",
     "output_type": "stream",
     "text": [
      "(4, 35, 8)\n",
      "8\n",
      "(2, 4, 35)\n"
     ]
    }
   ],
   "source": [
    "c=tf.random.normal([2,4,35,8])\n",
    "aa,bb=tf.stack(c,axis=0)\n",
    "print(aa.shape)\n",
    "res=tf.unstack(c,axis=3)\n",
    "print(len(res))\n",
    "print(res[0].shape)"
   ]
  },
  {
   "cell_type": "code",
   "execution_count": 188,
   "metadata": {},
   "outputs": [
    {
     "data": {
      "text/plain": [
       "2"
      ]
     },
     "execution_count": 188,
     "metadata": {},
     "output_type": "execute_result"
    }
   ],
   "source": [
    "res=tf.split(c,axis=3,num_or_size_splits=2)\n",
    "len(res)"
   ]
  },
  {
   "cell_type": "code",
   "execution_count": 189,
   "metadata": {},
   "outputs": [
    {
     "data": {
      "text/plain": [
       "TensorShape([2, 4, 35, 4])"
      ]
     },
     "execution_count": 189,
     "metadata": {},
     "output_type": "execute_result"
    }
   ],
   "source": [
    "res[0].shape"
   ]
  },
  {
   "cell_type": "code",
   "execution_count": 191,
   "metadata": {},
   "outputs": [
    {
     "name": "stdout",
     "output_type": "stream",
     "text": [
      "3\n",
      "(2, 4, 35, 4)\n"
     ]
    }
   ],
   "source": [
    "res=tf.split(c,axis=3,num_or_size_splits=[2,2,4])\n",
    "print(len(res))\n",
    "print(res[2].shape)"
   ]
  },
  {
   "cell_type": "markdown",
   "metadata": {},
   "source": [
    "### 数据统计"
   ]
  },
  {
   "cell_type": "code",
   "execution_count": 193,
   "metadata": {},
   "outputs": [
    {
     "name": "stdout",
     "output_type": "stream",
     "text": [
      "tf.Tensor(2.0, shape=(), dtype=float32)\n",
      "tf.Tensor(2.0, shape=(), dtype=float32)\n",
      "tf.Tensor(96.99484, shape=(), dtype=float32)\n",
      "tf.Tensor(96.99484, shape=(), dtype=float32)\n"
     ]
    }
   ],
   "source": [
    "a=tf.ones([2,2])\n",
    "print(tf.norm(a))\n",
    "print(tf.sqrt(tf.reduce_sum(tf.square(a))))\n",
    "\n",
    "a=tf.ones([4,28,28,3])\n",
    "print(tf.norm(a))\n",
    "print(tf.sqrt(tf.reduce_sum(tf.square(a))))"
   ]
  },
  {
   "cell_type": "code",
   "execution_count": 194,
   "metadata": {},
   "outputs": [
    {
     "data": {
      "text/plain": [
       "<tf.Tensor: id=678476, shape=(), dtype=float32, numpy=2.0>"
      ]
     },
     "execution_count": 194,
     "metadata": {},
     "output_type": "execute_result"
    }
   ],
   "source": [
    "b=tf.ones([2,2])\n",
    "tf.norm(b)"
   ]
  },
  {
   "cell_type": "code",
   "execution_count": 195,
   "metadata": {},
   "outputs": [
    {
     "data": {
      "text/plain": [
       "<tf.Tensor: id=678482, shape=(2,), dtype=float32, numpy=array([1.4142135, 1.4142135], dtype=float32)>"
      ]
     },
     "execution_count": 195,
     "metadata": {},
     "output_type": "execute_result"
    }
   ],
   "source": [
    "tf.norm(b,ord=2,axis=1)"
   ]
  },
  {
   "cell_type": "code",
   "execution_count": 196,
   "metadata": {},
   "outputs": [
    {
     "data": {
      "text/plain": [
       "<tf.Tensor: id=678487, shape=(), dtype=float32, numpy=4.0>"
      ]
     },
     "execution_count": 196,
     "metadata": {},
     "output_type": "execute_result"
    }
   ],
   "source": [
    "tf.norm(b,ord=1)"
   ]
  },
  {
   "cell_type": "code",
   "execution_count": 197,
   "metadata": {},
   "outputs": [
    {
     "data": {
      "text/plain": [
       "<tf.Tensor: id=678492, shape=(2,), dtype=float32, numpy=array([2., 2.], dtype=float32)>"
      ]
     },
     "execution_count": 197,
     "metadata": {},
     "output_type": "execute_result"
    }
   ],
   "source": [
    "tf.norm(b,ord=1,axis=0)"
   ]
  },
  {
   "cell_type": "code",
   "execution_count": 200,
   "metadata": {},
   "outputs": [
    {
     "name": "stdout",
     "output_type": "stream",
     "text": [
      "tf.Tensor(-2.6057558, shape=(), dtype=float32)\n",
      "tf.Tensor(1.6370752, shape=(), dtype=float32)\n",
      "tf.Tensor(0.0987134, shape=(), dtype=float32)\n",
      "tf.Tensor([-1.2044216 -2.6057558 -1.8708804 -1.1437688], shape=(4,), dtype=float32)\n",
      "tf.Tensor([1.4591022 1.1102319 1.4955748 1.6370752], shape=(4,), dtype=float32)\n",
      "tf.Tensor([ 0.04620284 -0.02091467  0.09594734  0.27361807], shape=(4,), dtype=float32)\n"
     ]
    }
   ],
   "source": [
    "a=tf.random.normal([4,10])\n",
    "\n",
    "# print(a)\n",
    "\n",
    "print(tf.reduce_min(a))\n",
    "print(tf.reduce_max(a))\n",
    "print(tf.reduce_mean(a))\n",
    "\n",
    "print(tf.reduce_min(a,axis=1))\n",
    "print(tf.reduce_max(a,axis=1))\n",
    "print(tf.reduce_mean(a,axis=1))"
   ]
  },
  {
   "cell_type": "code",
   "execution_count": 201,
   "metadata": {},
   "outputs": [
    {
     "data": {
      "text/plain": [
       "TensorShape([10])"
      ]
     },
     "execution_count": 201,
     "metadata": {},
     "output_type": "execute_result"
    }
   ],
   "source": [
    "tf.argmax(a).shape"
   ]
  },
  {
   "cell_type": "code",
   "execution_count": 203,
   "metadata": {},
   "outputs": [
    {
     "data": {
      "text/plain": [
       "<tf.Tensor: id=678564, shape=(4,), dtype=int64, numpy=array([7, 7, 1, 5])>"
      ]
     },
     "execution_count": 203,
     "metadata": {},
     "output_type": "execute_result"
    }
   ],
   "source": [
    "tf.argmax(a,axis=1)"
   ]
  },
  {
   "cell_type": "code",
   "execution_count": 204,
   "metadata": {},
   "outputs": [
    {
     "data": {
      "text/plain": [
       "<tf.Tensor: id=678567, shape=(10,), dtype=int64, numpy=array([3, 2, 2, 1, 1, 3, 0, 0, 2, 3])>"
      ]
     },
     "execution_count": 204,
     "metadata": {},
     "output_type": "execute_result"
    }
   ],
   "source": [
    "tf.argmax(a,axis=0)"
   ]
  },
  {
   "cell_type": "code",
   "execution_count": 206,
   "metadata": {},
   "outputs": [
    {
     "data": {
      "text/plain": [
       "<tf.Tensor: id=678584, shape=(), dtype=int32, numpy=3>"
      ]
     },
     "execution_count": 206,
     "metadata": {},
     "output_type": "execute_result"
    }
   ],
   "source": [
    "a=tf.constant([0,1,1,2,4])\n",
    "b=tf.range(5)\n",
    "\n",
    "res=tf.equal(a,b)\n",
    "tf.reduce_sum(tf.cast(res,dtype=tf.int32))"
   ]
  },
  {
   "cell_type": "code",
   "execution_count": 207,
   "metadata": {},
   "outputs": [
    {
     "data": {
      "text/plain": [
       "Unique(y=<tf.Tensor: id=678590, shape=(5,), dtype=int32, numpy=array([0, 1, 2, 3, 4], dtype=int32)>, idx=<tf.Tensor: id=678591, shape=(5,), dtype=int32, numpy=array([0, 1, 2, 3, 4], dtype=int32)>)"
      ]
     },
     "execution_count": 207,
     "metadata": {},
     "output_type": "execute_result"
    }
   ],
   "source": [
    "a=tf.range(5)\n",
    "tf.unique(a)"
   ]
  },
  {
   "cell_type": "code",
   "execution_count": 208,
   "metadata": {},
   "outputs": [
    {
     "data": {
      "text/plain": [
       "Unique(y=<tf.Tensor: id=678595, shape=(3,), dtype=int32, numpy=array([4, 2, 3], dtype=int32)>, idx=<tf.Tensor: id=678596, shape=(5,), dtype=int32, numpy=array([0, 1, 1, 0, 2], dtype=int32)>)"
      ]
     },
     "execution_count": 208,
     "metadata": {},
     "output_type": "execute_result"
    }
   ],
   "source": [
    "a=tf.constant([4,2,2,4,3])\n",
    "tf.unique(a)"
   ]
  },
  {
   "cell_type": "markdown",
   "metadata": {},
   "source": [
    "### 张量排序"
   ]
  },
  {
   "cell_type": "code",
   "execution_count": 1,
   "metadata": {},
   "outputs": [],
   "source": [
    "import tensorflow as tf"
   ]
  },
  {
   "cell_type": "code",
   "execution_count": 2,
   "metadata": {},
   "outputs": [
    {
     "name": "stdout",
     "output_type": "stream",
     "text": [
      "tf.Tensor([2 1 4 0 3], shape=(5,), dtype=int32)\n"
     ]
    }
   ],
   "source": [
    "a=tf.random.shuffle(tf.range(5))\n",
    "print(a)"
   ]
  },
  {
   "cell_type": "code",
   "execution_count": 4,
   "metadata": {},
   "outputs": [
    {
     "data": {
      "text/plain": [
       "<tf.Tensor: id=14, shape=(5,), dtype=int32, numpy=array([4, 3, 2, 1, 0], dtype=int32)>"
      ]
     },
     "execution_count": 4,
     "metadata": {},
     "output_type": "execute_result"
    }
   ],
   "source": [
    "tf.sort(a,direction='DESCENDING')"
   ]
  },
  {
   "cell_type": "code",
   "execution_count": 5,
   "metadata": {},
   "outputs": [
    {
     "data": {
      "text/plain": [
       "<tf.Tensor: id=26, shape=(5,), dtype=int32, numpy=array([2, 4, 0, 1, 3], dtype=int32)>"
      ]
     },
     "execution_count": 5,
     "metadata": {},
     "output_type": "execute_result"
    }
   ],
   "source": [
    "tf.argsort(a,direction='DESCENDING')"
   ]
  },
  {
   "cell_type": "code",
   "execution_count": 6,
   "metadata": {},
   "outputs": [
    {
     "data": {
      "text/plain": [
       "<tf.Tensor: id=39, shape=(5,), dtype=int32, numpy=array([4, 3, 2, 1, 0], dtype=int32)>"
      ]
     },
     "execution_count": 6,
     "metadata": {},
     "output_type": "execute_result"
    }
   ],
   "source": [
    "idx=tf.argsort(a,direction='DESCENDING')\n",
    "tf.gather(a,idx)"
   ]
  },
  {
   "cell_type": "code",
   "execution_count": 7,
   "metadata": {},
   "outputs": [
    {
     "data": {
      "text/plain": [
       "<tf.Tensor: id=44, shape=(3, 3), dtype=int32, numpy=\n",
       "array([[8, 3, 8],\n",
       "       [4, 5, 2],\n",
       "       [9, 7, 5]], dtype=int32)>"
      ]
     },
     "execution_count": 7,
     "metadata": {},
     "output_type": "execute_result"
    }
   ],
   "source": [
    "a=tf.random.uniform([3,3],maxval=10,dtype=tf.int32)\n",
    "a"
   ]
  },
  {
   "cell_type": "code",
   "execution_count": 8,
   "metadata": {},
   "outputs": [
    {
     "data": {
      "text/plain": [
       "<tf.Tensor: id=57, shape=(3, 3), dtype=int32, numpy=\n",
       "array([[3, 8, 8],\n",
       "       [2, 4, 5],\n",
       "       [5, 7, 9]], dtype=int32)>"
      ]
     },
     "execution_count": 8,
     "metadata": {},
     "output_type": "execute_result"
    }
   ],
   "source": [
    "tf.sort(a)"
   ]
  },
  {
   "cell_type": "code",
   "execution_count": 9,
   "metadata": {},
   "outputs": [
    {
     "data": {
      "text/plain": [
       "<tf.Tensor: id=67, shape=(3, 3), dtype=int32, numpy=\n",
       "array([[8, 8, 3],\n",
       "       [5, 4, 2],\n",
       "       [9, 7, 5]], dtype=int32)>"
      ]
     },
     "execution_count": 9,
     "metadata": {},
     "output_type": "execute_result"
    }
   ],
   "source": [
    "tf.sort(a,direction='DESCENDING')"
   ]
  },
  {
   "cell_type": "code",
   "execution_count": 12,
   "metadata": {},
   "outputs": [
    {
     "data": {
      "text/plain": [
       "<tf.Tensor: id=113, shape=(3, 3), dtype=int32, numpy=\n",
       "array([[4, 3, 2],\n",
       "       [8, 5, 5],\n",
       "       [9, 7, 8]], dtype=int32)>"
      ]
     },
     "execution_count": 12,
     "metadata": {},
     "output_type": "execute_result"
    }
   ],
   "source": [
    "tf.sort(a,axis=0)"
   ]
  },
  {
   "cell_type": "code",
   "execution_count": 15,
   "metadata": {},
   "outputs": [
    {
     "name": "stdout",
     "output_type": "stream",
     "text": [
      "tf.Tensor(\n",
      "[[1 0 4]\n",
      " [1 0 0]\n",
      " [8 6 0]], shape=(3, 3), dtype=int32)\n",
      "tf.Tensor(\n",
      "[[4 1]\n",
      " [1 0]\n",
      " [8 6]], shape=(3, 2), dtype=int32)\n",
      "tf.Tensor(\n",
      "[[2 0]\n",
      " [0 1]\n",
      " [0 1]], shape=(3, 2), dtype=int32)\n"
     ]
    }
   ],
   "source": [
    "a=tf.random.uniform([3,3],maxval=10,dtype=tf.int32)\n",
    "print(a)\n",
    "res=tf.math.top_k(a,2)\n",
    "print(res.values)\n",
    "print(res.indices)"
   ]
  },
  {
   "cell_type": "code",
   "execution_count": 16,
   "metadata": {},
   "outputs": [
    {
     "name": "stdout",
     "output_type": "stream",
     "text": [
      "tf.Tensor(\n",
      "[[2 1]\n",
      " [1 0]\n",
      " [0 2]], shape=(3, 2), dtype=int32)\n"
     ]
    }
   ],
   "source": [
    "prob=tf.constant([[0.1,0.2,0.7],[0.2,0.7,0.1]])\n",
    "target=tf.constant([2,0])\n",
    "\n",
    "k_b=tf.math.top_k(prob,3).indices\n",
    "\n",
    "k_b=tf.transpose(k_b,[1,0])\n",
    "print(k_b)"
   ]
  },
  {
   "cell_type": "code",
   "execution_count": 17,
   "metadata": {},
   "outputs": [
    {
     "name": "stdout",
     "output_type": "stream",
     "text": [
      "tf.Tensor(\n",
      "[[2 0]\n",
      " [2 0]\n",
      " [2 0]], shape=(3, 2), dtype=int32)\n"
     ]
    }
   ],
   "source": [
    "target=tf.broadcast_to(target,[3,2])\n",
    "print(target)"
   ]
  },
  {
   "cell_type": "markdown",
   "metadata": {},
   "source": [
    "### 填充与复制"
   ]
  },
  {
   "cell_type": "code",
   "execution_count": 19,
   "metadata": {},
   "outputs": [
    {
     "name": "stdout",
     "output_type": "stream",
     "text": [
      "tf.Tensor(\n",
      "[[0 1 2]\n",
      " [3 4 5]\n",
      " [6 7 8]], shape=(3, 3), dtype=int32)\n"
     ]
    }
   ],
   "source": [
    "a=tf.reshape(tf.range(9),[3,3])\n",
    "print(a)"
   ]
  },
  {
   "cell_type": "code",
   "execution_count": 20,
   "metadata": {},
   "outputs": [
    {
     "data": {
      "text/plain": [
       "<tf.Tensor: id=165, shape=(4, 3), dtype=int32, numpy=\n",
       "array([[0, 0, 0],\n",
       "       [0, 1, 2],\n",
       "       [3, 4, 5],\n",
       "       [6, 7, 8]], dtype=int32)>"
      ]
     },
     "execution_count": 20,
     "metadata": {},
     "output_type": "execute_result"
    }
   ],
   "source": [
    "tf.pad(a,[[1,0],[0,0]])"
   ]
  },
  {
   "cell_type": "code",
   "execution_count": 21,
   "metadata": {},
   "outputs": [
    {
     "data": {
      "text/plain": [
       "<tf.Tensor: id=168, shape=(5, 3), dtype=int32, numpy=\n",
       "array([[0, 0, 0],\n",
       "       [0, 1, 2],\n",
       "       [3, 4, 5],\n",
       "       [6, 7, 8],\n",
       "       [0, 0, 0]], dtype=int32)>"
      ]
     },
     "execution_count": 21,
     "metadata": {},
     "output_type": "execute_result"
    }
   ],
   "source": [
    "tf.pad(a,[[1,1],[0,0]])"
   ]
  },
  {
   "cell_type": "code",
   "execution_count": 22,
   "metadata": {},
   "outputs": [
    {
     "data": {
      "text/plain": [
       "<tf.Tensor: id=171, shape=(5, 5), dtype=int32, numpy=\n",
       "array([[0, 0, 0, 0, 0],\n",
       "       [0, 0, 1, 2, 0],\n",
       "       [0, 3, 4, 5, 0],\n",
       "       [0, 6, 7, 8, 0],\n",
       "       [0, 0, 0, 0, 0]], dtype=int32)>"
      ]
     },
     "execution_count": 22,
     "metadata": {},
     "output_type": "execute_result"
    }
   ],
   "source": [
    "tf.pad(a,[[1,1],[1,1]])"
   ]
  },
  {
   "cell_type": "code",
   "execution_count": 23,
   "metadata": {},
   "outputs": [
    {
     "name": "stdout",
     "output_type": "stream",
     "text": [
      "(4, 32, 32, 3)\n"
     ]
    }
   ],
   "source": [
    "a=tf.random.normal([4,28,28,3])\n",
    "b=tf.pad(a,[[0,0],[2,2],[2,2],[0,0]])\n",
    "print(b.shape)"
   ]
  },
  {
   "cell_type": "code",
   "execution_count": 25,
   "metadata": {},
   "outputs": [
    {
     "data": {
      "text/plain": [
       "<tf.Tensor: id=189, shape=(3, 6), dtype=int32, numpy=\n",
       "array([[0, 1, 2, 0, 1, 2],\n",
       "       [3, 4, 5, 3, 4, 5],\n",
       "       [6, 7, 8, 6, 7, 8]], dtype=int32)>"
      ]
     },
     "execution_count": 25,
     "metadata": {},
     "output_type": "execute_result"
    }
   ],
   "source": [
    "a=tf.reshape(tf.range(9),[3,3])\n",
    "\n",
    "tf.tile(a,[1,2])"
   ]
  },
  {
   "cell_type": "code",
   "execution_count": 26,
   "metadata": {},
   "outputs": [
    {
     "data": {
      "text/plain": [
       "<tf.Tensor: id=192, shape=(6, 3), dtype=int32, numpy=\n",
       "array([[0, 1, 2],\n",
       "       [3, 4, 5],\n",
       "       [6, 7, 8],\n",
       "       [0, 1, 2],\n",
       "       [3, 4, 5],\n",
       "       [6, 7, 8]], dtype=int32)>"
      ]
     },
     "execution_count": 26,
     "metadata": {},
     "output_type": "execute_result"
    }
   ],
   "source": [
    "tf.tile(a,[2,1])"
   ]
  },
  {
   "cell_type": "code",
   "execution_count": 27,
   "metadata": {},
   "outputs": [
    {
     "data": {
      "text/plain": [
       "<tf.Tensor: id=195, shape=(6, 6), dtype=int32, numpy=\n",
       "array([[0, 1, 2, 0, 1, 2],\n",
       "       [3, 4, 5, 3, 4, 5],\n",
       "       [6, 7, 8, 6, 7, 8],\n",
       "       [0, 1, 2, 0, 1, 2],\n",
       "       [3, 4, 5, 3, 4, 5],\n",
       "       [6, 7, 8, 6, 7, 8]], dtype=int32)>"
      ]
     },
     "execution_count": 27,
     "metadata": {},
     "output_type": "execute_result"
    }
   ],
   "source": [
    "tf.tile(a,[2,2])"
   ]
  },
  {
   "cell_type": "code",
   "execution_count": 28,
   "metadata": {},
   "outputs": [
    {
     "data": {
      "text/plain": [
       "<tf.Tensor: id=200, shape=(2, 3, 3), dtype=int32, numpy=\n",
       "array([[[0, 1, 2],\n",
       "        [3, 4, 5],\n",
       "        [6, 7, 8]],\n",
       "\n",
       "       [[0, 1, 2],\n",
       "        [3, 4, 5],\n",
       "        [6, 7, 8]]], dtype=int32)>"
      ]
     },
     "execution_count": 28,
     "metadata": {},
     "output_type": "execute_result"
    }
   ],
   "source": [
    "aa=tf.expand_dims(a,axis=0)\n",
    "\n",
    "tf.tile(aa,[2,1,1])"
   ]
  },
  {
   "cell_type": "code",
   "execution_count": 29,
   "metadata": {},
   "outputs": [
    {
     "data": {
      "text/plain": [
       "<tf.Tensor: id=203, shape=(2, 3, 3), dtype=int32, numpy=\n",
       "array([[[0, 1, 2],\n",
       "        [3, 4, 5],\n",
       "        [6, 7, 8]],\n",
       "\n",
       "       [[0, 1, 2],\n",
       "        [3, 4, 5],\n",
       "        [6, 7, 8]]], dtype=int32)>"
      ]
     },
     "execution_count": 29,
     "metadata": {},
     "output_type": "execute_result"
    }
   ],
   "source": [
    "tf.broadcast_to(aa,[2,3,3])"
   ]
  },
  {
   "cell_type": "markdown",
   "metadata": {},
   "source": [
    "### 张量限幅"
   ]
  },
  {
   "cell_type": "code",
   "execution_count": 31,
   "metadata": {},
   "outputs": [
    {
     "data": {
      "text/plain": [
       "<tf.Tensor: id=208, shape=(10,), dtype=int32, numpy=array([0, 1, 2, 3, 4, 5, 6, 7, 8, 9], dtype=int32)>"
      ]
     },
     "execution_count": 31,
     "metadata": {},
     "output_type": "execute_result"
    }
   ],
   "source": [
    "a=tf.range(10)\n",
    "a"
   ]
  },
  {
   "cell_type": "code",
   "execution_count": 32,
   "metadata": {},
   "outputs": [
    {
     "data": {
      "text/plain": [
       "<tf.Tensor: id=211, shape=(10,), dtype=int32, numpy=array([2, 2, 2, 3, 4, 5, 6, 7, 8, 9], dtype=int32)>"
      ]
     },
     "execution_count": 32,
     "metadata": {},
     "output_type": "execute_result"
    }
   ],
   "source": [
    "tf.maximum(a,2)"
   ]
  },
  {
   "cell_type": "code",
   "execution_count": 33,
   "metadata": {},
   "outputs": [
    {
     "data": {
      "text/plain": [
       "<tf.Tensor: id=214, shape=(10,), dtype=int32, numpy=array([0, 1, 2, 3, 4, 5, 6, 7, 8, 8], dtype=int32)>"
      ]
     },
     "execution_count": 33,
     "metadata": {},
     "output_type": "execute_result"
    }
   ],
   "source": [
    "tf.minimum(a,8)"
   ]
  },
  {
   "cell_type": "code",
   "execution_count": 34,
   "metadata": {},
   "outputs": [
    {
     "data": {
      "text/plain": [
       "<tf.Tensor: id=219, shape=(10,), dtype=int32, numpy=array([2, 2, 2, 3, 4, 5, 6, 7, 8, 8], dtype=int32)>"
      ]
     },
     "execution_count": 34,
     "metadata": {},
     "output_type": "execute_result"
    }
   ],
   "source": [
    "tf.clip_by_value(a,2,8)"
   ]
  },
  {
   "cell_type": "code",
   "execution_count": 35,
   "metadata": {},
   "outputs": [
    {
     "data": {
      "text/plain": [
       "<tf.Tensor: id=223, shape=(10,), dtype=int32, numpy=array([0, 0, 0, 0, 0, 0, 1, 2, 3, 4], dtype=int32)>"
      ]
     },
     "execution_count": 35,
     "metadata": {},
     "output_type": "execute_result"
    }
   ],
   "source": [
    "a=a-5\n",
    "\n",
    "tf.nn.relu(a)"
   ]
  },
  {
   "cell_type": "code",
   "execution_count": 36,
   "metadata": {},
   "outputs": [
    {
     "data": {
      "text/plain": [
       "<tf.Tensor: id=230, shape=(2, 2), dtype=float32, numpy=\n",
       "array([[ 9.606168,  9.979214],\n",
       "       [10.899365,  8.760098]], dtype=float32)>"
      ]
     },
     "execution_count": 36,
     "metadata": {},
     "output_type": "execute_result"
    }
   ],
   "source": [
    "a=tf.random.normal([2,2],mean=10)\n",
    "a"
   ]
  },
  {
   "cell_type": "code",
   "execution_count": 37,
   "metadata": {},
   "outputs": [
    {
     "data": {
      "text/plain": [
       "<tf.Tensor: id=236, shape=(), dtype=float32, numpy=19.682446>"
      ]
     },
     "execution_count": 37,
     "metadata": {},
     "output_type": "execute_result"
    }
   ],
   "source": [
    "tf.norm(a)"
   ]
  },
  {
   "cell_type": "code",
   "execution_count": 40,
   "metadata": {},
   "outputs": [
    {
     "data": {
      "text/plain": [
       "<tf.Tensor: id=286, shape=(2, 2), dtype=float32, numpy=\n",
       "array([[7.320864 , 7.6051626],\n",
       "       [8.306411 , 6.6760745]], dtype=float32)>"
      ]
     },
     "execution_count": 40,
     "metadata": {},
     "output_type": "execute_result"
    }
   ],
   "source": [
    "aa=tf.clip_by_norm(a,15)\n",
    "aa"
   ]
  },
  {
   "cell_type": "code",
   "execution_count": 41,
   "metadata": {},
   "outputs": [
    {
     "data": {
      "text/plain": [
       "<tf.Tensor: id=292, shape=(), dtype=float32, numpy=14.999999>"
      ]
     },
     "execution_count": 41,
     "metadata": {},
     "output_type": "execute_result"
    }
   ],
   "source": [
    "tf.norm(aa)"
   ]
  },
  {
   "cell_type": "markdown",
   "metadata": {},
   "source": [
    "### 高阶OP"
   ]
  },
  {
   "cell_type": "code",
   "execution_count": 42,
   "metadata": {},
   "outputs": [
    {
     "data": {
      "text/plain": [
       "<tf.Tensor: id=299, shape=(3, 3), dtype=float32, numpy=\n",
       "array([[-0.38726708,  0.2066715 ,  1.1470621 ],\n",
       "       [-0.28038445,  0.25295958, -0.16618201],\n",
       "       [ 0.49355465,  0.12864359, -0.18534598]], dtype=float32)>"
      ]
     },
     "execution_count": 42,
     "metadata": {},
     "output_type": "execute_result"
    }
   ],
   "source": [
    "a=tf.random.normal([3,3])\n",
    "a"
   ]
  },
  {
   "cell_type": "code",
   "execution_count": 43,
   "metadata": {},
   "outputs": [
    {
     "data": {
      "text/plain": [
       "<tf.Tensor: id=302, shape=(3, 3), dtype=bool, numpy=\n",
       "array([[False,  True,  True],\n",
       "       [False,  True, False],\n",
       "       [ True,  True, False]])>"
      ]
     },
     "execution_count": 43,
     "metadata": {},
     "output_type": "execute_result"
    }
   ],
   "source": [
    "mask=a>0\n",
    "mask"
   ]
  },
  {
   "cell_type": "code",
   "execution_count": 44,
   "metadata": {},
   "outputs": [
    {
     "data": {
      "text/plain": [
       "<tf.Tensor: id=330, shape=(5,), dtype=float32, numpy=\n",
       "array([0.2066715 , 1.1470621 , 0.25295958, 0.49355465, 0.12864359],\n",
       "      dtype=float32)>"
      ]
     },
     "execution_count": 44,
     "metadata": {},
     "output_type": "execute_result"
    }
   ],
   "source": [
    "tf.boolean_mask(a,mask)"
   ]
  },
  {
   "cell_type": "code",
   "execution_count": 46,
   "metadata": {},
   "outputs": [
    {
     "data": {
      "text/plain": [
       "<tf.Tensor: id=333, shape=(5, 2), dtype=int64, numpy=\n",
       "array([[0, 1],\n",
       "       [0, 2],\n",
       "       [1, 1],\n",
       "       [2, 0],\n",
       "       [2, 1]])>"
      ]
     },
     "execution_count": 46,
     "metadata": {},
     "output_type": "execute_result"
    }
   ],
   "source": [
    "indices=tf.where(mask)\n",
    "indices"
   ]
  },
  {
   "cell_type": "code",
   "execution_count": 47,
   "metadata": {},
   "outputs": [
    {
     "data": {
      "text/plain": [
       "<tf.Tensor: id=335, shape=(5,), dtype=float32, numpy=\n",
       "array([0.2066715 , 1.1470621 , 0.25295958, 0.49355465, 0.12864359],\n",
       "      dtype=float32)>"
      ]
     },
     "execution_count": 47,
     "metadata": {},
     "output_type": "execute_result"
    }
   ],
   "source": [
    "tf.gather_nd(a,indices)"
   ]
  },
  {
   "cell_type": "code",
   "execution_count": 48,
   "metadata": {},
   "outputs": [
    {
     "data": {
      "text/plain": [
       "<tf.Tensor: id=302, shape=(3, 3), dtype=bool, numpy=\n",
       "array([[False,  True,  True],\n",
       "       [False,  True, False],\n",
       "       [ True,  True, False]])>"
      ]
     },
     "execution_count": 48,
     "metadata": {},
     "output_type": "execute_result"
    }
   ],
   "source": [
    "mask"
   ]
  },
  {
   "cell_type": "code",
   "execution_count": 49,
   "metadata": {},
   "outputs": [
    {
     "data": {
      "text/plain": [
       "<tf.Tensor: id=344, shape=(3, 3), dtype=float32, numpy=\n",
       "array([[0., 1., 1.],\n",
       "       [0., 1., 0.],\n",
       "       [1., 1., 0.]], dtype=float32)>"
      ]
     },
     "execution_count": 49,
     "metadata": {},
     "output_type": "execute_result"
    }
   ],
   "source": [
    "A=tf.ones([3,3])\n",
    "B=tf.zeros([3,3])\n",
    "\n",
    "tf.where(mask,A,B)"
   ]
  },
  {
   "cell_type": "code",
   "execution_count": 50,
   "metadata": {},
   "outputs": [
    {
     "data": {
      "text/plain": [
       "<tf.Tensor: id=349, shape=(8,), dtype=int32, numpy=array([ 0, 11,  0, 10,  9,  0,  0, 12], dtype=int32)>"
      ]
     },
     "execution_count": 50,
     "metadata": {},
     "output_type": "execute_result"
    }
   ],
   "source": [
    "indices=tf.constant([[4],[3],[1],[7]])\n",
    "updates=tf.constant([9,10,11,12])\n",
    "shape=tf.constant([8])\n",
    "tf.scatter_nd(indices,updates,shape)"
   ]
  },
  {
   "cell_type": "code",
   "execution_count": 51,
   "metadata": {},
   "outputs": [
    {
     "data": {
      "text/plain": [
       "TensorShape([5, 5])"
      ]
     },
     "execution_count": 51,
     "metadata": {},
     "output_type": "execute_result"
    }
   ],
   "source": [
    "y=tf.linspace(-2.,2,5)\n",
    "x=tf.linspace(-2.,2,5)\n",
    "\n",
    "points_x,points_y=tf.meshgrid(x,y)\n",
    "points_x.shape"
   ]
  },
  {
   "cell_type": "code",
   "execution_count": 52,
   "metadata": {},
   "outputs": [
    {
     "data": {
      "text/plain": [
       "<tf.Tensor: id=377, shape=(5, 5), dtype=float32, numpy=\n",
       "array([[-2., -1.,  0.,  1.,  2.],\n",
       "       [-2., -1.,  0.,  1.,  2.],\n",
       "       [-2., -1.,  0.,  1.,  2.],\n",
       "       [-2., -1.,  0.,  1.,  2.],\n",
       "       [-2., -1.,  0.,  1.,  2.]], dtype=float32)>"
      ]
     },
     "execution_count": 52,
     "metadata": {},
     "output_type": "execute_result"
    }
   ],
   "source": [
    "points_x"
   ]
  },
  {
   "cell_type": "code",
   "execution_count": 54,
   "metadata": {},
   "outputs": [
    {
     "data": {
      "text/plain": [
       "<tf.Tensor: id=381, shape=(5, 5, 2), dtype=float32, numpy=\n",
       "array([[[-2., -2.],\n",
       "        [-1., -2.],\n",
       "        [ 0., -2.],\n",
       "        [ 1., -2.],\n",
       "        [ 2., -2.]],\n",
       "\n",
       "       [[-2., -1.],\n",
       "        [-1., -1.],\n",
       "        [ 0., -1.],\n",
       "        [ 1., -1.],\n",
       "        [ 2., -1.]],\n",
       "\n",
       "       [[-2.,  0.],\n",
       "        [-1.,  0.],\n",
       "        [ 0.,  0.],\n",
       "        [ 1.,  0.],\n",
       "        [ 2.,  0.]],\n",
       "\n",
       "       [[-2.,  1.],\n",
       "        [-1.,  1.],\n",
       "        [ 0.,  1.],\n",
       "        [ 1.,  1.],\n",
       "        [ 2.,  1.]],\n",
       "\n",
       "       [[-2.,  2.],\n",
       "        [-1.,  2.],\n",
       "        [ 0.,  2.],\n",
       "        [ 1.,  2.],\n",
       "        [ 2.,  2.]]], dtype=float32)>"
      ]
     },
     "execution_count": 54,
     "metadata": {},
     "output_type": "execute_result"
    }
   ],
   "source": [
    "poins=tf.stack([points_x,points_y],axis=2)\n",
    "poins"
   ]
  },
  {
   "cell_type": "code",
   "execution_count": 56,
   "metadata": {},
   "outputs": [
    {
     "name": "stdout",
     "output_type": "stream",
     "text": [
      "points: (500, 500, 2)\n",
      "z: (500, 500)\n"
     ]
    },
    {
     "data": {
      "image/png": "[encoded data removed]",
      "text/plain": [
       "<Figure size 432x288 with 2 Axes>"
      ]
     },
     "metadata": {
      "needs_background": "light"
     },
     "output_type": "display_data"
    },
    {
     "data": {
      "image/png": "[encoded data removed]",
      "text/plain": [
       "<Figure size 432x288 with 2 Axes>"
      ]
     },
     "metadata": {
      "needs_background": "light"
     },
     "output_type": "display_data"
    }
   ],
   "source": [
    "import matplotlib.pyplot as plt\n",
    "\n",
    "def func(x):\n",
    "    z=tf.math.sin(x[...,0])+tf.math.sin(x[...,1])\n",
    "    return z\n",
    "\n",
    "x=tf.linspace(0.,2*3.14,500)\n",
    "y=tf.linspace(0.,2*3.14,500)\n",
    "\n",
    "points_x,points_y=tf.meshgrid(x,y)\n",
    "poins=tf.stack([points_x,points_y],axis=2)\n",
    "print('points:',poins.shape)\n",
    "z=func(poins)\n",
    "print('z:',z.shape)\n",
    "\n",
    "plt.figure('plot 2d func value')\n",
    "plt.imshow(z,origin='lower',interpolation='none')\n",
    "plt.colorbar()\n",
    "\n",
    "plt.figure('plot 2d func contour')\n",
    "plt.contour(points_x,points_y,z)\n",
    "plt.colorbar()\n",
    "plt.show()"
   ]
  },
  {
   "cell_type": "code",
   "execution_count": 60,
   "metadata": {},
   "outputs": [
    {
     "name": "stdout",
     "output_type": "stream",
     "text": [
      "x,y range: (120,) (120,)\n",
      "X,Y maps: (120, 120) (120, 120)\n"
     ]
    },
    {
     "data": {
      "image/png": "[encoded data removed]",
      "text/plain": [
       "<Figure size 432x288 with 1 Axes>"
      ]
     },
     "metadata": {
      "needs_background": "light"
     },
     "output_type": "display_data"
    },
    {
     "name": "stdout",
     "output_type": "stream",
     "text": [
      "step 0: x = [ 3.26       -0.09999999], f(x) = 34.0\n",
      "step 20: x = [ 3.54679   -1.4388103], f(x) = 2.747403860092163\n",
      "step 40: x = [ 3.5843565 -1.8473401], f(x) = 1.7569735064171255e-05\n",
      "step 60: x = [ 3.5844283 -1.8481257], f(x) = 2.3646862246096134e-11\n",
      "step 80: x = [ 3.5844283 -1.8481264], f(x) = 2.2737367544323206e-13\n",
      "step 100: x = [ 3.5844283 -1.8481264], f(x) = 2.2737367544323206e-13\n",
      "step 120: x = [ 3.5844283 -1.8481264], f(x) = 2.2737367544323206e-13\n",
      "step 140: x = [ 3.5844283 -1.8481264], f(x) = 2.2737367544323206e-13\n",
      "step 160: x = [ 3.5844283 -1.8481264], f(x) = 2.2737367544323206e-13\n",
      "step 180: x = [ 3.5844283 -1.8481264], f(x) = 2.2737367544323206e-13\n"
     ]
    }
   ],
   "source": [
    "import  numpy as np\n",
    "from    mpl_toolkits.mplot3d import Axes3D\n",
    "from    matplotlib import pyplot as plt\n",
    "import  tensorflow as tf\n",
    "\n",
    "\n",
    "\n",
    "def himmelblau(x):\n",
    "    return (x[0] ** 2 + x[1] - 11) ** 2 + (x[0] + x[1] ** 2 - 7) ** 2\n",
    "\n",
    "\n",
    "x = np.arange(-6, 6, 0.1)\n",
    "y = np.arange(-6, 6, 0.1)\n",
    "print('x,y range:', x.shape, y.shape)\n",
    "X, Y = np.meshgrid(x, y)\n",
    "print('X,Y maps:', X.shape, Y.shape)\n",
    "Z = himmelblau([X, Y])\n",
    "\n",
    "fig = plt.figure('himmelblau')\n",
    "ax = fig.gca(projection='3d')\n",
    "ax.plot_surface(X, Y, Z)\n",
    "ax.view_init(60, -30)\n",
    "ax.set_xlabel('x')\n",
    "ax.set_ylabel('y')\n",
    "plt.show()\n",
    "\n",
    "\n",
    "# [1., 0.], [-4, 0.], [4, 0.]\n",
    "x = tf.constant([4., 0.])\n",
    "\n",
    "for step in range(200):\n",
    "\n",
    "    with tf.GradientTape() as tape:\n",
    "        tape.watch([x])\n",
    "        y = himmelblau(x)\n",
    "\n",
    "    grads = tape.gradient(y, [x])[0] \n",
    "    x -= 0.01*grads\n",
    "\n",
    "    \n",
    "\n",
    "    if step % 20 == 0:\n",
    "        print ('step {}: x = {}, f(x) = {}'\n",
    "               .format(step, x.numpy(), y.numpy()))"
   ]
  },
  {
   "cell_type": "markdown",
   "metadata": {},
   "source": [
    "### 前向传播"
   ]
  },
  {
   "cell_type": "code",
   "execution_count": 164,
   "metadata": {},
   "outputs": [],
   "source": [
    "import tensorflow as tf\n",
    "from tensorflow import keras\n",
    "from tensorflow.keras import datasets\n",
    "import os"
   ]
  },
  {
   "cell_type": "code",
   "execution_count": 166,
   "metadata": {},
   "outputs": [
    {
     "name": "stdout",
     "output_type": "stream",
     "text": [
      "(60000, 28, 28) (60000,)\n",
      "tf.Tensor(0.0, shape=(), dtype=float32) tf.Tensor(1.0, shape=(), dtype=float32)\n",
      "tf.Tensor(0, shape=(), dtype=int32) tf.Tensor(9, shape=(), dtype=int32)\n"
     ]
    }
   ],
   "source": [
    "(x,y),_=datasets.mnist.load_data()\n",
    "\n",
    "x=tf.convert_to_tensor(x,dtype=tf.float32)/255\n",
    "y=tf.convert_to_tensor(y,dtype=tf.int32)\n",
    "\n",
    "print(x.shape,y.shape)\n",
    "print(tf.reduce_min(x),tf.reduce_max(x))\n",
    "print(tf.reduce_min(y),tf.reduce_max(y))"
   ]
  },
  {
   "cell_type": "code",
   "execution_count": 167,
   "metadata": {},
   "outputs": [
    {
     "name": "stdout",
     "output_type": "stream",
     "text": [
      "batch: (128, 28, 28) (128,)\n"
     ]
    }
   ],
   "source": [
    "train_db=tf.data.Dataset.from_tensor_slices((x,y)).batch(128)\n",
    "train_iter=iter(train_db)\n",
    "sample=next(train_iter)\n",
    "\n",
    "print('batch:',sample[0].shape,sample[1].shape)"
   ]
  },
  {
   "cell_type": "code",
   "execution_count": 169,
   "metadata": {},
   "outputs": [],
   "source": [
    "w1=tf.Variable(tf.random.truncated_normal([784,256],stddev=0.1))\n",
    "b1=tf.Variable(tf.zeros([256]))\n",
    "w2=tf.Variable(tf.random.truncated_normal([256,128],stddev=0.1))\n",
    "b2=tf.Variable(tf.zeros([128]))\n",
    "w3=tf.Variable(tf.random.truncated_normal([128,10],stddev=0.1))\n",
    "b3=tf.Variable(tf.zeros([10]))\n",
    "\n",
    "lr=1e-3"
   ]
  },
  {
   "cell_type": "code",
   "execution_count": 177,
   "metadata": {},
   "outputs": [
    {
     "name": "stdout",
     "output_type": "stream",
     "text": [
      "0 0 loss: 0.07825803011655807\n",
      "0 100 loss: 0.08172547072172165\n",
      "0 200 loss: 0.08062225580215454\n",
      "0 300 loss: 0.07686122506856918\n",
      "0 400 loss: 0.0822737067937851\n",
      "1 0 loss: 0.0760853961110115\n",
      "1 100 loss: 0.07965002954006195\n",
      "1 200 loss: 0.07838620245456696\n",
      "1 300 loss: 0.07490221410989761\n",
      "1 400 loss: 0.08025802671909332\n",
      "2 0 loss: 0.07410559803247452\n",
      "2 100 loss: 0.07776626199483871\n",
      "2 200 loss: 0.07638567686080933\n",
      "2 300 loss: 0.0731327086687088\n",
      "2 400 loss: 0.07842270284891129\n",
      "3 0 loss: 0.07229354977607727\n",
      "3 100 loss: 0.076051265001297\n",
      "3 200 loss: 0.07457579672336578\n",
      "3 300 loss: 0.07153337448835373\n",
      "3 400 loss: 0.0767492726445198\n",
      "4 0 loss: 0.07063685357570648\n",
      "4 100 loss: 0.07448240369558334\n",
      "4 200 loss: 0.0729379802942276\n",
      "4 300 loss: 0.07008672505617142\n",
      "4 400 loss: 0.07521213591098785\n"
     ]
    }
   ],
   "source": [
    "optimizer=optimizers.SGD(learning_rate=lr)\n",
    "\n",
    "for epoch in range(5):\n",
    "    for step,(x,y) in enumerate(train_db):\n",
    "        x=tf.reshape(x,[-1,28*28])\n",
    "        \n",
    "        with tf.GradientTape() as tape:\n",
    "            h1=x@w1+tf.broadcast_to(b1,[x.shape[0],256])\n",
    "            h1=tf.nn.relu(h1)\n",
    "            h2 = h1@w2 + b2\n",
    "            h2 = tf.nn.relu(h2)\n",
    "            out = h2@w3 + b3\n",
    "            \n",
    "            y_onehot=tf.one_hot(y,depth=10)\n",
    "            \n",
    "            loss=tf.square(y_onehot-out)\n",
    "            loss=tf.reduce_mean(loss)\n",
    "        \n",
    "        grads=tape.gradient(loss,[w1,b1,w2,b2,w3,b3])\n",
    "        \n",
    "#         w1.assign_sub(lr * grads[0])\n",
    "#         b1.assign_sub(lr * grads[1])\n",
    "#         w2.assign_sub(lr * grads[2])\n",
    "#         b2.assign_sub(lr * grads[3])\n",
    "#         w3.assign_sub(lr * grads[4])\n",
    "#         b3.assign_sub(lr * grads[5])\n",
    "        optimizer.apply_gradients(zip(grads,[w1,b1,w2,b2,w3,b3]))\n",
    "        if step%100==0:\n",
    "            print(epoch,step,'loss:',float(loss))"
   ]
  },
  {
   "cell_type": "markdown",
   "metadata": {},
   "source": [
    "### MNIST"
   ]
  },
  {
   "cell_type": "code",
   "execution_count": 7,
   "metadata": {},
   "outputs": [],
   "source": [
    "import os \n",
    "import tensorflow as tf\n",
    "from tensorflow import keras\n",
    "from tensorflow.keras import layers,optimizers,datasets"
   ]
  },
  {
   "cell_type": "code",
   "execution_count": 19,
   "metadata": {},
   "outputs": [
    {
     "name": "stdout",
     "output_type": "stream",
     "text": [
      "(60000, 28, 28) (60000, 10)\n",
      "<BatchDataset shapes: ((None, 28, 28), (None, 10)), types: (tf.float32, tf.float32)>\n"
     ]
    }
   ],
   "source": [
    "(x,y),(x_val,y_val)=datasets.mnist.load_data()\n",
    "x=tf.convert_to_tensor(x,dtype=tf.float32)/255\n",
    "y=tf.convert_to_tensor(y,dtype=tf.int32)\n",
    "y=tf.one_hot(y,depth=10)\n",
    "print(x.shape,y.shape)\n",
    "\n",
    "train_data=tf.data.Dataset.from_tensor_slices((x,y))\n",
    "train_data=train_data.batch(200)\n",
    "print(train_data)"
   ]
  },
  {
   "cell_type": "code",
   "execution_count": 20,
   "metadata": {},
   "outputs": [],
   "source": [
    "model=keras.Sequential([\n",
    "    layers.Dense(512,activation='relu'),\n",
    "    layers.Dense(256,activation='relu'),\n",
    "    layers.Dense(10)\n",
    "])\n",
    "\n",
    "optimizer=optimizers.SGD(learning_rate=0.001)"
   ]
  },
  {
   "cell_type": "code",
   "execution_count": 21,
   "metadata": {},
   "outputs": [
    {
     "name": "stdout",
     "output_type": "stream",
     "text": [
      "0 0 loss: 1.9859205\n",
      "0 100 loss: 0.9467012\n",
      "0 200 loss: 0.75306135\n",
      "1 0 loss: 0.70348406\n",
      "1 100 loss: 0.68450755\n",
      "1 200 loss: 0.58047044\n",
      "2 0 loss: 0.56902695\n",
      "2 100 loss: 0.59083444\n",
      "2 200 loss: 0.50836205\n",
      "3 0 loss: 0.503386\n",
      "3 100 loss: 0.538123\n",
      "3 200 loss: 0.46511155\n",
      "4 0 loss: 0.4621201\n",
      "4 100 loss: 0.5029466\n",
      "4 200 loss: 0.43468314\n"
     ]
    }
   ],
   "source": [
    "def train_epoch(epoch):\n",
    "    for step,(x,y) in enumerate(train_data):\n",
    "        with tf.GradientTape() as tape:\n",
    "            x=tf.reshape(x,(-1,28*28))\n",
    "            out=model(x)\n",
    "            loss=tf.reduce_sum(tf.square(out-y))/x.shape[0]\n",
    "            \n",
    "        grads=tape.gradient(loss,model.trainable_variables)\n",
    "        \n",
    "        optimizer.apply_gradients(zip(grads,model.trainable_variables))\n",
    "        \n",
    "        if (step%100==0):\n",
    "            print(epoch,step,'loss:',loss.numpy())\n",
    "            \n",
    "def train():\n",
    "    for epoch in range(5):\n",
    "        train_epoch(epoch)\n",
    "        \n",
    "if __name__=='__main__':\n",
    "    train()"
   ]
  },
  {
   "cell_type": "markdown",
   "metadata": {},
   "source": [
    "### MLP"
   ]
  },
  {
   "cell_type": "code",
   "execution_count": 59,
   "metadata": {},
   "outputs": [
    {
     "name": "stdout",
     "output_type": "stream",
     "text": [
      "Model: \"sequential_1\"\n",
      "_________________________________________________________________\n",
      "Layer (type)                 Output Shape              Param #   \n",
      "=================================================================\n",
      "dense_3 (Dense)              multiple                  8         \n",
      "_________________________________________________________________\n",
      "dense_4 (Dense)              multiple                  6         \n",
      "_________________________________________________________________\n",
      "dense_5 (Dense)              multiple                  6         \n",
      "=================================================================\n",
      "Total params: 20\n",
      "Trainable params: 20\n",
      "Non-trainable params: 0\n",
      "_________________________________________________________________\n",
      "dense_3/kernel:0 (3, 2)\n",
      "dense_3/bias:0 (2,)\n",
      "dense_4/kernel:0 (2, 2)\n",
      "dense_4/bias:0 (2,)\n",
      "dense_5/kernel:0 (2, 2)\n",
      "dense_5/bias:0 (2,)\n"
     ]
    }
   ],
   "source": [
    "from tensorflow import keras\n",
    "\n",
    "x=tf.random.normal([2,3])\n",
    "\n",
    "model=keras.Sequential([\n",
    "    keras.layers.Dense(2,activation='relu'),\n",
    "    keras.layers.Dense(2,activation='relu'),\n",
    "    keras.layers.Dense(2)\n",
    "])\n",
    "\n",
    "model.build(input_shape=[None,3])\n",
    "model.summary()\n",
    "\n",
    "for p in model.trainable_variables:\n",
    "    print(p.name,p.shape)"
   ]
  },
  {
   "cell_type": "markdown",
   "metadata": {},
   "source": [
    "### fashionmnist"
   ]
  },
  {
   "cell_type": "code",
   "execution_count": 61,
   "metadata": {},
   "outputs": [],
   "source": [
    "import tensorflow as tf\n",
    "from    tensorflow import keras\n",
    "from    tensorflow.keras import datasets, layers, optimizers, Sequential, metrics"
   ]
  },
  {
   "cell_type": "code",
   "execution_count": 63,
   "metadata": {},
   "outputs": [
    {
     "name": "stdout",
     "output_type": "stream",
     "text": [
      "(60000, 28, 28) (60000,)\n"
     ]
    }
   ],
   "source": [
    "def preprocess(x,y):\n",
    "    x=tf.cast(x,dtype=tf.float32)/255\n",
    "    y=tf.cast(y,dtype=tf.int32)\n",
    "    return x,y\n",
    "\n",
    "(x,y),(x_test,y_test)=datasets.fashion_mnist.load_data()\n",
    "print(x.shape,y.shape)"
   ]
  },
  {
   "cell_type": "code",
   "execution_count": 68,
   "metadata": {},
   "outputs": [
    {
     "name": "stdout",
     "output_type": "stream",
     "text": [
      "batch: (128, 28, 28) (128,)\n"
     ]
    }
   ],
   "source": [
    "batchsz=128\n",
    "\n",
    "db=tf.data.Dataset.from_tensor_slices((x,y))\n",
    "db=db.map(preprocess).batch(batchsz)\n",
    "\n",
    "db_test = tf.data.Dataset.from_tensor_slices((x_test,y_test))\n",
    "db_test = db_test.map(preprocess).batch(batchsz)\n",
    "\n",
    "db_iter=iter(db)\n",
    "sample=next(db_iter)\n",
    "print('batch:',sample[0].shape,sample[1].shape)"
   ]
  },
  {
   "cell_type": "code",
   "execution_count": 69,
   "metadata": {},
   "outputs": [
    {
     "name": "stdout",
     "output_type": "stream",
     "text": [
      "Model: \"sequential_2\"\n",
      "_________________________________________________________________\n",
      "Layer (type)                 Output Shape              Param #   \n",
      "=================================================================\n",
      "dense_6 (Dense)              multiple                  200960    \n",
      "_________________________________________________________________\n",
      "dense_7 (Dense)              multiple                  32896     \n",
      "_________________________________________________________________\n",
      "dense_8 (Dense)              multiple                  8256      \n",
      "_________________________________________________________________\n",
      "dense_9 (Dense)              multiple                  2080      \n",
      "_________________________________________________________________\n",
      "dense_10 (Dense)             multiple                  330       \n",
      "=================================================================\n",
      "Total params: 244,522\n",
      "Trainable params: 244,522\n",
      "Non-trainable params: 0\n",
      "_________________________________________________________________\n"
     ]
    }
   ],
   "source": [
    "model=Sequential([\n",
    "    layers.Dense(256,activation=tf.nn.relu),\n",
    "    layers.Dense(128,activation=tf.nn.relu),\n",
    "    layers.Dense(64,activation=tf.nn.relu),\n",
    "    layers.Dense(32,activation=tf.nn.relu),\n",
    "    layers.Dense(10,activation=tf.nn.relu)\n",
    "])\n",
    "\n",
    "model.build(input_shape=[None,28*28])\n",
    "model.summary()"
   ]
  },
  {
   "cell_type": "code",
   "execution_count": 79,
   "metadata": {},
   "outputs": [
    {
     "name": "stdout",
     "output_type": "stream",
     "text": [
      "0 0 loss: 2.1704764366149902 0.08208804577589035\n",
      "0 100 loss: 0.7136040329933167 7.0123162269592285\n",
      "0 200 loss: 0.707526683807373 10.453323364257812\n",
      "0 300 loss: 0.5614016056060791 9.681699752807617\n",
      "0 400 loss: 0.7021365761756897 8.990316390991211\n",
      "0 test acc: 0.7807\n",
      "1 0 loss: 0.46681249141693115 11.734479904174805\n",
      "1 100 loss: 0.5308777093887329 11.060575485229492\n",
      "1 200 loss: 0.6105073690414429 12.829026222229004\n",
      "1 300 loss: 0.45256680250167847 11.313435554504395\n",
      "1 400 loss: 0.6168470978736877 9.16413402557373\n",
      "1 test acc: 0.7943\n",
      "2 0 loss: 0.38588017225265503 14.151915550231934\n",
      "2 100 loss: 0.4783659279346466 14.641756057739258\n",
      "2 200 loss: 0.5587402582168579 14.910283088684082\n",
      "2 300 loss: 0.4272199273109436 13.309175491333008\n",
      "2 400 loss: 0.5856947302818298 10.818572044372559\n",
      "2 test acc: 0.8025\n",
      "3 0 loss: 0.3638281524181366 15.617961883544922\n",
      "3 100 loss: 0.5162245035171509 17.78329086303711\n",
      "3 200 loss: 0.5464584827423096 14.332822799682617\n",
      "3 300 loss: 0.398455947637558 14.164945602416992\n",
      "3 400 loss: 0.5694220662117004 12.471606254577637\n",
      "3 test acc: 0.8071\n",
      "4 0 loss: 0.34379369020462036 17.96932601928711\n",
      "4 100 loss: 0.46188706159591675 18.307716369628906\n",
      "4 200 loss: 0.5443668961524963 15.169475555419922\n",
      "4 300 loss: 0.39966967701911926 17.145977020263672\n",
      "4 400 loss: 0.549256443977356 13.963876724243164\n",
      "4 test acc: 0.8072\n",
      "5 0 loss: 0.3556196093559265 17.5470027923584\n",
      "5 100 loss: 0.4540020525455475 17.079204559326172\n",
      "5 200 loss: 0.536468505859375 17.649368286132812\n",
      "5 300 loss: 0.3864296078681946 18.196353912353516\n",
      "5 400 loss: 0.5119388103485107 14.706048965454102\n",
      "5 test acc: 0.8049\n",
      "6 0 loss: 0.334098756313324 17.279253005981445\n",
      "6 100 loss: 0.4283705949783325 19.35272979736328\n",
      "6 200 loss: 0.546532928943634 18.63662338256836\n",
      "6 300 loss: 0.37005770206451416 20.369211196899414\n",
      "6 400 loss: 0.49734169244766235 17.29828643798828\n",
      "6 test acc: 0.8026\n",
      "7 0 loss: 0.3356102406978607 18.815113067626953\n",
      "7 100 loss: 0.4430386424064636 20.501144409179688\n",
      "7 200 loss: 0.5395623445510864 23.389902114868164\n",
      "7 300 loss: 0.37996479868888855 22.62992286682129\n",
      "7 400 loss: 0.5061779618263245 16.490840911865234\n",
      "7 test acc: 0.8064\n",
      "8 0 loss: 0.33613094687461853 19.999706268310547\n",
      "8 100 loss: 0.46268075704574585 18.80996322631836\n",
      "8 200 loss: 0.555109977722168 26.70624351501465\n",
      "8 300 loss: 0.339787095785141 22.478679656982422\n",
      "8 400 loss: 0.48752933740615845 19.137874603271484\n",
      "8 test acc: 0.804\n",
      "9 0 loss: 0.31860941648483276 19.96881103515625\n",
      "9 100 loss: 0.4555743932723999 23.000263214111328\n",
      "9 200 loss: 0.5531865358352661 28.289915084838867\n",
      "9 300 loss: 0.29773542284965515 23.004125595092773\n",
      "9 400 loss: 0.45625290274620056 18.526641845703125\n",
      "9 test acc: 0.8068\n"
     ]
    }
   ],
   "source": [
    "optimizer=optimizers.Adam(learning_rate=1e-3)\n",
    "\n",
    "def main():\n",
    "    for epoch in range(10):\n",
    "        for step,(x,y) in enumerate(db):\n",
    "            x=tf.reshape(x,[-1,28*28])\n",
    "            with tf.GradientTape() as tape:\n",
    "                logits=model(x)\n",
    "                y_onehot=tf.one_hot(y,depth=10)\n",
    "                \n",
    "                loss_mse=tf.reduce_mean(tf.losses.MSE(y_onehot,logits))\n",
    "                lose_ce=tf.losses.categorical_crossentropy(y_onehot,logits,from_logits=True)\n",
    "                loss_ce=tf.reduce_mean(lose_ce)\n",
    "                \n",
    "            grads=tape.gradient(lose_ce,model.trainable_variables)\n",
    "            optimizer.apply_gradients(zip(grads,model.trainable_variables))\n",
    "            \n",
    "            if (step%100==0):\n",
    "                print(epoch, step, 'loss:', float(loss_ce), float(loss_mse))\n",
    "        \n",
    "        total_correct=0\n",
    "        total_num=0\n",
    "        for x,y in db_test:\n",
    "            x = tf.reshape(x, [-1, 28*28])\n",
    "            logits = model(x)\n",
    "            prob=tf.nn.softmax(logits,axis=1)\n",
    "            \n",
    "            pred=tf.argmax(prob,axis=1)\n",
    "            pred=tf.cast(pred,dtype=tf.int32)\n",
    "            \n",
    "            correct=tf.equal(pred,y)\n",
    "            correct=tf.reduce_sum(tf.cast(correct,dtype=tf.int32))\n",
    "            \n",
    "            total_correct+=int(correct)\n",
    "            total_num+=x.shape[0]\n",
    "            \n",
    "        acc=total_correct/total_num\n",
    "        print(epoch,'test acc:',acc)\n",
    "        \n",
    "if __name__=='__main__':\n",
    "    main()"
   ]
  },
  {
   "cell_type": "markdown",
   "metadata": {},
   "source": [
    "### 可视化"
   ]
  },
  {
   "cell_type": "code",
   "execution_count": 82,
   "metadata": {},
   "outputs": [],
   "source": [
    "import  tensorflow as tf\n",
    "from    tensorflow.keras import datasets, layers, optimizers, Sequential, metrics\n",
    "import  datetime\n",
    "from    matplotlib import pyplot as plt\n",
    "import  io\n",
    "\n",
    "def plot_to_img(figure):\n",
    "    buf=io.BytesIO()\n",
    "    plt.savefig(buf,format='png')\n",
    "    plt.close(figure)\n",
    "    buf.seek(0)\n",
    "    \n",
    "    image=tf.image.decode_png(buf.getvalue(),channels=4)\n",
    "    image=tf.expand_dims(image,0)\n",
    "    return image\n",
    "\n",
    "def image_grad(images):\n",
    "    figure=plt.figure(figsize=(10,10))\n",
    "    for i in range(25):\n",
    "        plt.subplot(5,5,i+1,title='name')\n",
    "        plt.xticks([])\n",
    "        plt.yticks([])\n",
    "        plt.grid(False)\n",
    "        plt.imshow(images[i],cmap=plt.cm.binary)\n",
    "    return figure"
   ]
  },
  {
   "cell_type": "code",
   "execution_count": 83,
   "metadata": {},
   "outputs": [
    {
     "name": "stdout",
     "output_type": "stream",
     "text": [
      "datasets: (60000, 28, 28) (60000,) 0 255\n",
      "Model: \"sequential_3\"\n",
      "_________________________________________________________________\n",
      "Layer (type)                 Output Shape              Param #   \n",
      "=================================================================\n",
      "dense_11 (Dense)             multiple                  200960    \n",
      "_________________________________________________________________\n",
      "dense_12 (Dense)             multiple                  32896     \n",
      "_________________________________________________________________\n",
      "dense_13 (Dense)             multiple                  8256      \n",
      "_________________________________________________________________\n",
      "dense_14 (Dense)             multiple                  2080      \n",
      "_________________________________________________________________\n",
      "dense_15 (Dense)             multiple                  330       \n",
      "=================================================================\n",
      "Total params: 244,522\n",
      "Trainable params: 244,522\n",
      "Non-trainable params: 0\n",
      "_________________________________________________________________\n"
     ]
    }
   ],
   "source": [
    "batchsz = 128\n",
    "(x, y), (x_val, y_val) = datasets.mnist.load_data()\n",
    "print('datasets:', x.shape, y.shape, x.min(), x.max())\n",
    "\n",
    "def preprocess(x, y):\n",
    "\n",
    "    x = tf.cast(x, dtype=tf.float32) / 255.\n",
    "    y = tf.cast(y, dtype=tf.int32)\n",
    "\n",
    "    return x,y\n",
    "\n",
    "db = tf.data.Dataset.from_tensor_slices((x,y))\n",
    "db = db.map(preprocess).shuffle(60000).batch(batchsz).repeat(10)\n",
    "\n",
    "ds_val = tf.data.Dataset.from_tensor_slices((x_val, y_val))\n",
    "ds_val = ds_val.map(preprocess).batch(batchsz, drop_remainder=True) \n",
    "\n",
    "network = Sequential([layers.Dense(256, activation='relu'),\n",
    "                     layers.Dense(128, activation='relu'),\n",
    "                     layers.Dense(64, activation='relu'),\n",
    "                     layers.Dense(32, activation='relu'),\n",
    "                     layers.Dense(10)])\n",
    "network.build(input_shape=(None, 28*28))\n",
    "network.summary()\n",
    "\n",
    "optimizer = optimizers.Adam(lr=0.01)"
   ]
  },
  {
   "cell_type": "code",
   "execution_count": 84,
   "metadata": {},
   "outputs": [],
   "source": [
    "current_time = datetime.datetime.now().strftime(\"%Y%m%d-%H%M%S\")\n",
    "log_dir = 'logs/' + current_time\n",
    "summary_writer = tf.summary.create_file_writer(log_dir)"
   ]
  },
  {
   "cell_type": "code",
   "execution_count": 85,
   "metadata": {},
   "outputs": [],
   "source": [
    "sample_img=next(iter(db))[0]\n",
    "sample_img=sample_img[0]\n",
    "sample_img=tf.reshape(sample_img,[1,28,28,1])\n",
    "with summary_writer.as_default():\n",
    "    tf.summary.image(\"training sample:\",sample_img,step=0)"
   ]
  },
  {
   "cell_type": "code",
   "execution_count": 86,
   "metadata": {},
   "outputs": [
    {
     "name": "stdout",
     "output_type": "stream",
     "text": [
      "0 loss: 2.3063297271728516\n",
      "0 Evaluate Acc: 0.25080128205128205\n",
      "100 loss: 0.2348337322473526\n",
      "200 loss: 0.2851265072822571\n",
      "300 loss: 0.11379985511302948\n",
      "400 loss: 0.113382488489151\n",
      "500 loss: 0.19024455547332764\n",
      "500 Evaluate Acc: 0.9510216346153846\n",
      "600 loss: 0.2289475053548813\n",
      "700 loss: 0.1268971711397171\n",
      "800 loss: 0.11988378316164017\n",
      "900 loss: 0.13022620975971222\n",
      "1000 loss: 0.16651271283626556\n",
      "1000 Evaluate Acc: 0.9576322115384616\n",
      "1100 loss: 0.050136663019657135\n",
      "1200 loss: 0.05002531781792641\n",
      "1300 loss: 0.09875462204217911\n",
      "1400 loss: 0.08290822803974152\n",
      "1500 loss: 0.11896933615207672\n",
      "1500 Evaluate Acc: 0.9686498397435898\n",
      "1600 loss: 0.02652592957019806\n",
      "1700 loss: 0.07634443789720535\n",
      "1800 loss: 0.22899270057678223\n",
      "1900 loss: 0.04820558428764343\n",
      "2000 loss: 0.10118591785430908\n",
      "2000 Evaluate Acc: 0.9728565705128205\n",
      "2100 loss: 0.053894080221652985\n",
      "2200 loss: 0.04123123735189438\n",
      "2300 loss: 0.1270335614681244\n",
      "2400 loss: 0.03809216246008873\n",
      "2500 loss: 0.03246359899640083\n",
      "2500 Evaluate Acc: 0.9645432692307693\n",
      "2600 loss: 0.025178462266921997\n",
      "2700 loss: 0.08335220813751221\n",
      "2800 loss: 0.1451033502817154\n",
      "2900 loss: 0.03781818598508835\n",
      "3000 loss: 0.02014831081032753\n",
      "3000 Evaluate Acc: 0.9696514423076923\n",
      "3100 loss: 0.14944875240325928\n",
      "3200 loss: 0.09022963792085648\n",
      "3300 loss: 0.019684623926877975\n",
      "3400 loss: 0.03502887487411499\n",
      "3500 loss: 0.10814632475376129\n",
      "3500 Evaluate Acc: 0.9680488782051282\n",
      "3600 loss: 0.0746501013636589\n",
      "3700 loss: 0.14744900166988373\n",
      "3800 loss: 0.027449507266283035\n",
      "3900 loss: 0.029757965356111526\n",
      "4000 loss: 0.09009142965078354\n",
      "4000 Evaluate Acc: 0.9747596153846154\n",
      "4100 loss: 0.0789799839258194\n",
      "4200 loss: 0.0993855893611908\n",
      "4300 loss: 0.12015312910079956\n",
      "4400 loss: 0.02279704622924328\n",
      "4500 loss: 0.01774638518691063\n",
      "4500 Evaluate Acc: 0.9739583333333334\n",
      "4600 loss: 0.07055377960205078\n"
     ]
    }
   ],
   "source": [
    "for step, (x,y) in enumerate(db):\n",
    "\n",
    "    with tf.GradientTape() as tape:\n",
    "        x = tf.reshape(x, (-1, 28*28))\n",
    "        out = network(x)\n",
    "        y_onehot = tf.one_hot(y, depth=10) \n",
    "        loss = tf.reduce_mean(tf.losses.categorical_crossentropy(y_onehot, out, from_logits=True))\n",
    "    grads = tape.gradient(loss, network.trainable_variables)\n",
    "    optimizer.apply_gradients(zip(grads, network.trainable_variables))\n",
    "    \n",
    "    if step%100==0:\n",
    "        print(step, 'loss:', float(loss))\n",
    "        with summary_writer.as_default():\n",
    "            tf.summary.scalar('train_loss',float(loss),step=step)\n",
    "            \n",
    "    if step%500==0:\n",
    "        total,total_correct=0.,0\n",
    "        for _,(x,y) in enumerate(ds_val):\n",
    "            x=tf.reshape(x,[-1,28*28])\n",
    "            out=network(x)\n",
    "            \n",
    "            pred = tf.argmax(out, axis=1) \n",
    "            pred = tf.cast(pred, dtype=tf.int32)\n",
    "            \n",
    "            correct = tf.equal(pred, y)\n",
    "            total_correct += tf.reduce_sum(tf.cast(correct, dtype=tf.int32)).numpy()\n",
    "            total += x.shape[0]\n",
    "        print(step, 'Evaluate Acc:', total_correct/total)\n",
    "        \n",
    "        val_images=x[:25]\n",
    "        val_images=tf.reshape(val_images,[-1,28,28,1])\n",
    "        with summary_writer.as_default():\n",
    "            tf.summary.scalar('test_acc,',float(total_correct/total),step=step)\n",
    "            tf.summary.image(\"val-onebyone-images:\", val_images, max_outputs=25, step=step)\n",
    "            \n",
    "            val_images=tf.reshape(val_images,[-1,28,28])\n",
    "            figure=image_grad(val_images)\n",
    "            tf.summary.image('val_images:',plot_to_img(figure),step=step)"
   ]
  },
  {
   "cell_type": "markdown",
   "metadata": {},
   "source": [
    "### Keras高层API"
   ]
  },
  {
   "cell_type": "code",
   "execution_count": 87,
   "metadata": {},
   "outputs": [],
   "source": [
    "def preprocess(x, y):\n",
    "    x = tf.cast(x, dtype=tf.float32) / 255.\n",
    "    x = tf.reshape(x, [28*28])\n",
    "    y = tf.cast(y, dtype=tf.int32)\n",
    "    y = tf.one_hot(y, depth=10)\n",
    "    return x,y"
   ]
  },
  {
   "cell_type": "code",
   "execution_count": 88,
   "metadata": {},
   "outputs": [
    {
     "name": "stdout",
     "output_type": "stream",
     "text": [
      "datasets: (60000, 28, 28) (60000,) 0 255\n",
      "(128, 784) (128, 10)\n"
     ]
    }
   ],
   "source": [
    "batchsz = 128\n",
    "(x, y), (x_val, y_val) = datasets.mnist.load_data()\n",
    "print('datasets:', x.shape, y.shape, x.min(), x.max())\n",
    "\n",
    "db = tf.data.Dataset.from_tensor_slices((x,y))\n",
    "db = db.map(preprocess).shuffle(60000).batch(batchsz)\n",
    "ds_val = tf.data.Dataset.from_tensor_slices((x_val, y_val))\n",
    "ds_val = ds_val.map(preprocess).batch(batchsz) \n",
    "\n",
    "sample = next(iter(db))\n",
    "print(sample[0].shape, sample[1].shape)"
   ]
  },
  {
   "cell_type": "code",
   "execution_count": 89,
   "metadata": {},
   "outputs": [
    {
     "name": "stdout",
     "output_type": "stream",
     "text": [
      "Model: \"sequential_4\"\n",
      "_________________________________________________________________\n",
      "Layer (type)                 Output Shape              Param #   \n",
      "=================================================================\n",
      "dense_16 (Dense)             multiple                  200960    \n",
      "_________________________________________________________________\n",
      "dense_17 (Dense)             multiple                  32896     \n",
      "_________________________________________________________________\n",
      "dense_18 (Dense)             multiple                  8256      \n",
      "_________________________________________________________________\n",
      "dense_19 (Dense)             multiple                  2080      \n",
      "_________________________________________________________________\n",
      "dense_20 (Dense)             multiple                  330       \n",
      "=================================================================\n",
      "Total params: 244,522\n",
      "Trainable params: 244,522\n",
      "Non-trainable params: 0\n",
      "_________________________________________________________________\n"
     ]
    }
   ],
   "source": [
    "network = Sequential([layers.Dense(256, activation='relu'),\n",
    "                     layers.Dense(128, activation='relu'),\n",
    "                     layers.Dense(64, activation='relu'),\n",
    "                     layers.Dense(32, activation='relu'),\n",
    "                     layers.Dense(10)])\n",
    "network.build(input_shape=(None, 28*28))\n",
    "network.summary()"
   ]
  },
  {
   "cell_type": "code",
   "execution_count": 92,
   "metadata": {},
   "outputs": [
    {
     "name": "stdout",
     "output_type": "stream",
     "text": [
      "Epoch 1/5\n",
      "469/469 [==============================] - 3s 6ms/step - loss: 0.0900 - accuracy: 0.9812\n",
      "Epoch 2/5\n",
      "469/469 [==============================] - 3s 6ms/step - loss: 0.0929 - accuracy: 0.9810 - val_loss: 0.1373 - val_accuracy: 0.9741\n",
      "Epoch 3/5\n",
      "469/469 [==============================] - 2s 5ms/step - loss: 0.0546 - accuracy: 0.9870\n",
      "Epoch 4/5\n",
      "469/469 [==============================] - 3s 6ms/step - loss: 0.0503 - accuracy: 0.9876 - val_loss: 0.1391 - val_accuracy: 0.9726\n",
      "Epoch 5/5\n",
      "469/469 [==============================] - 2s 5ms/step - loss: 0.0718 - accuracy: 0.9836\n",
      "79/79 [==============================] - 0s 4ms/step - loss: 0.1978 - accuracy: 0.9643\n"
     ]
    },
    {
     "data": {
      "text/plain": [
       "[0.19781711979406663, 0.9643]"
      ]
     },
     "execution_count": 92,
     "metadata": {},
     "output_type": "execute_result"
    }
   ],
   "source": [
    "network.compile(optimizer=optimizers.Adam(lr=0.01),loss=tf.losses.CategoricalCrossentropy(from_logits=True),metrics=['accuracy'])\n",
    "\n",
    "network.fit(db,epochs=5,validation_data=ds_val,validation_freq=2)\n",
    "network.evaluate(ds_val)"
   ]
  },
  {
   "cell_type": "code",
   "execution_count": 93,
   "metadata": {},
   "outputs": [
    {
     "name": "stdout",
     "output_type": "stream",
     "text": [
      "tf.Tensor(\n",
      "[7 2 1 0 4 1 4 9 5 9 0 6 9 0 1 5 9 7 3 4 9 6 6 5 4 0 7 4 0 1 3 1 3 4 7 2 7\n",
      " 1 2 1 1 7 4 2 3 5 1 2 4 4 6 3 5 5 6 0 4 1 9 5 7 8 9 3 7 4 6 4 3 0 7 0 2 9\n",
      " 1 7 3 2 9 7 7 6 2 7 8 4 7 3 6 1 3 6 9 3 1 4 1 7 6 9 6 0 5 4 9 9 2 1 9 4 8\n",
      " 7 3 9 7 9 4 4 9 2 5 4 7 6 7 9 0 5], shape=(128,), dtype=int64)\n",
      "tf.Tensor(\n",
      "[7 2 1 0 4 1 4 9 5 9 0 6 9 0 1 5 9 7 3 4 9 6 6 5 4 0 7 4 0 1 3 1 3 4 7 2 7\n",
      " 1 2 1 1 7 4 2 3 5 1 2 4 4 6 3 5 5 6 0 4 1 9 5 7 8 9 3 7 4 6 4 3 0 7 0 2 9\n",
      " 1 7 3 2 9 7 7 6 2 7 8 4 7 3 6 1 3 6 9 3 1 4 1 7 6 9 6 0 5 4 9 9 2 1 9 4 8\n",
      " 7 3 9 7 4 4 4 9 2 5 4 7 6 7 9 0 5], shape=(128,), dtype=int64)\n"
     ]
    }
   ],
   "source": [
    "sample=next(iter(ds_val))\n",
    "x=sample[0]\n",
    "y=sample[1]\n",
    "pred=network.predict(x)\n",
    "y=tf.argmax(y,axis=1)\n",
    "pred=tf.argmax(pred,axis=1)\n",
    "print(pred)\n",
    "print(y)"
   ]
  },
  {
   "cell_type": "code",
   "execution_count": 94,
   "metadata": {},
   "outputs": [],
   "source": [
    "class MyDense(layers.Layer):\n",
    "    \n",
    "    def __init__(self,inp_dim,outp_dim):\n",
    "        super(MyDense,self).__init__()\n",
    "\n",
    "        self.kernel=self.add_variable('w',[inp_dim,outp_dim])\n",
    "        self.bias=self.add_variable('b',[outp_dim])\n",
    "    \n",
    "    def call(self,inputs,training=None):\n",
    "        out=inputs@self.kernel+self.bias\n",
    "        return out"
   ]
  },
  {
   "cell_type": "code",
   "execution_count": 95,
   "metadata": {},
   "outputs": [],
   "source": [
    "class MyModel(keras.Model):\n",
    "    def __init__(self):\n",
    "        super(MyModel,self).__init__()\n",
    "        \n",
    "        self.fc1=MyDense(28*28,256)\n",
    "        self.fc2=MyDense(256,128)\n",
    "        self.fc3=MyDense(128,64)\n",
    "        self.fc4=MyDense(64,32)\n",
    "        self.fc5=MyDense(32,10)\n",
    "        \n",
    "    def call(self,inputs,training=None):\n",
    "        \n",
    "        x=self.fc1(inputs)\n",
    "        x=tf.nn.relu(x)\n",
    "        x=self.fc2(x)\n",
    "        x=tf.nn.relu(x)\n",
    "        x=self.fc3(x)\n",
    "        x=tf.nn.relu(x)\n",
    "        x=self.fc4(x)\n",
    "        x=tf.nn.relu(x)\n",
    "        x=self.fc5(x)\n",
    "        \n",
    "        return x"
   ]
  },
  {
   "cell_type": "code",
   "execution_count": 97,
   "metadata": {},
   "outputs": [
    {
     "name": "stdout",
     "output_type": "stream",
     "text": [
      "Epoch 1/5\n",
      "469/469 [==============================] - 3s 6ms/step - loss: 0.2774 - accuracy: 0.8424\n",
      "Epoch 2/5\n",
      "469/469 [==============================] - 3s 6ms/step - loss: 0.1356 - accuracy: 0.9612 - val_loss: 0.1304 - val_accuracy: 0.9618\n",
      "Epoch 3/5\n",
      "469/469 [==============================] - 2s 5ms/step - loss: 0.1064 - accuracy: 0.9689\n",
      "Epoch 4/5\n",
      "469/469 [==============================] - 3s 6ms/step - loss: 0.0900 - accuracy: 0.9762 - val_loss: 0.1294 - val_accuracy: 0.9680\n",
      "Epoch 5/5\n",
      "469/469 [==============================] - 2s 5ms/step - loss: 0.0844 - accuracy: 0.9777\n",
      "79/79 [==============================] - 0s 4ms/step - loss: 0.1235 - accuracy: 0.9710\n"
     ]
    },
    {
     "data": {
      "text/plain": [
       "[0.1235090091830426, 0.971]"
      ]
     },
     "execution_count": 97,
     "metadata": {},
     "output_type": "execute_result"
    }
   ],
   "source": [
    "network=MyModel()\n",
    "\n",
    "network.compile(optimizer=optimizers.Adam(lr=0.01),loss=tf.losses.CategoricalCrossentropy(from_logits=True),metrics=['accuracy'])\n",
    "\n",
    "network.fit(db, epochs=5, validation_data=ds_val,validation_freq=2)\n",
    " \n",
    "network.evaluate(ds_val)"
   ]
  },
  {
   "cell_type": "code",
   "execution_count": 98,
   "metadata": {},
   "outputs": [
    {
     "name": "stdout",
     "output_type": "stream",
     "text": [
      "tf.Tensor(\n",
      "[7 2 1 0 4 1 4 9 5 9 0 6 9 0 1 5 9 7 3 4 9 6 6 5 4 0 7 4 0 1 3 1 3 4 7 2 7\n",
      " 1 2 1 1 7 4 2 3 5 1 2 4 4 6 3 5 5 6 0 4 1 9 5 7 8 9 3 7 4 6 4 3 0 7 0 2 9\n",
      " 1 7 3 2 9 7 7 6 2 7 8 4 7 3 6 1 3 6 9 3 1 4 1 7 6 9 6 0 5 4 9 9 2 1 9 4 8\n",
      " 7 3 9 7 4 4 4 9 2 5 4 7 6 7 9 0 5], shape=(128,), dtype=int64)\n",
      "tf.Tensor(\n",
      "[7 2 1 0 4 1 4 9 5 9 0 6 9 0 1 5 9 7 3 4 9 6 6 5 4 0 7 4 0 1 3 1 3 4 7 2 7\n",
      " 1 2 1 1 7 4 2 3 5 1 2 4 4 6 3 5 5 6 0 4 1 9 5 7 8 9 3 7 4 6 4 3 0 7 0 2 9\n",
      " 1 7 3 2 9 7 7 6 2 7 8 4 7 3 6 1 3 6 9 3 1 4 1 7 6 9 6 0 5 4 9 9 2 1 9 4 8\n",
      " 7 3 9 7 4 4 4 9 2 5 4 7 6 7 9 0 5], shape=(128,), dtype=int64)\n"
     ]
    }
   ],
   "source": [
    "sample = next(iter(ds_val))\n",
    "x = sample[0]\n",
    "y = sample[1] \n",
    "pred = network.predict(x) \n",
    "y = tf.argmax(y, axis=1)\n",
    "pred = tf.argmax(pred, axis=1)\n",
    "\n",
    "print(pred)\n",
    "print(y)"
   ]
  },
  {
   "cell_type": "markdown",
   "metadata": {},
   "source": [
    "### 模型保存和加载"
   ]
  },
  {
   "cell_type": "code",
   "execution_count": 100,
   "metadata": {},
   "outputs": [
    {
     "name": "stdout",
     "output_type": "stream",
     "text": [
      "datasets: (60000, 28, 28) (60000,) 0 255\n",
      "(128, 784) (128, 10)\n",
      "Model: \"sequential_6\"\n",
      "_________________________________________________________________\n",
      "Layer (type)                 Output Shape              Param #   \n",
      "=================================================================\n",
      "dense_26 (Dense)             multiple                  200960    \n",
      "_________________________________________________________________\n",
      "dense_27 (Dense)             multiple                  32896     \n",
      "_________________________________________________________________\n",
      "dense_28 (Dense)             multiple                  8256      \n",
      "_________________________________________________________________\n",
      "dense_29 (Dense)             multiple                  2080      \n",
      "_________________________________________________________________\n",
      "dense_30 (Dense)             multiple                  330       \n",
      "=================================================================\n",
      "Total params: 244,522\n",
      "Trainable params: 244,522\n",
      "Non-trainable params: 0\n",
      "_________________________________________________________________\n",
      "Epoch 1/3\n",
      "469/469 [==============================] - 3s 6ms/step - loss: 0.2683 - accuracy: 0.8467\n",
      "Epoch 2/3\n",
      "469/469 [==============================] - 3s 6ms/step - loss: 0.1358 - accuracy: 0.9589 - val_loss: 0.1180 - val_accuracy: 0.9661\n",
      "Epoch 3/3\n",
      "469/469 [==============================] - 2s 5ms/step - loss: 0.1062 - accuracy: 0.9683\n",
      "79/79 [==============================] - 0s 4ms/step - loss: 0.1307 - accuracy: 0.9682\n",
      "saved weights\n"
     ]
    }
   ],
   "source": [
    "def preprocess(x, y):\n",
    "    x = tf.cast(x, dtype=tf.float32) / 255.\n",
    "    x = tf.reshape(x, [28*28])\n",
    "    y = tf.cast(y, dtype=tf.int32)\n",
    "    y = tf.one_hot(y, depth=10)\n",
    "    return x,y\n",
    "\n",
    "batchsz = 128\n",
    "(x, y), (x_val, y_val) = datasets.mnist.load_data()\n",
    "print('datasets:', x.shape, y.shape, x.min(), x.max())\n",
    "\n",
    "db = tf.data.Dataset.from_tensor_slices((x,y))\n",
    "db = db.map(preprocess).shuffle(60000).batch(batchsz)\n",
    "ds_val = tf.data.Dataset.from_tensor_slices((x_val, y_val))\n",
    "ds_val = ds_val.map(preprocess).batch(batchsz) \n",
    "\n",
    "sample = next(iter(db))\n",
    "print(sample[0].shape, sample[1].shape)\n",
    "\n",
    "network = Sequential([layers.Dense(256, activation='relu'),\n",
    "                     layers.Dense(128, activation='relu'),\n",
    "                     layers.Dense(64, activation='relu'),\n",
    "                     layers.Dense(32, activation='relu'),\n",
    "                     layers.Dense(10)])\n",
    "network.build(input_shape=(None, 28*28))\n",
    "network.summary()\n",
    "\n",
    "\n",
    "\n",
    "\n",
    "network.compile(optimizer=optimizers.Adam(lr=0.01),loss=tf.losses.CategoricalCrossentropy(from_logits=True),metrics=['accuracy'])\n",
    "\n",
    "network.fit(db, epochs=3, validation_data=ds_val, validation_freq=2)\n",
    " \n",
    "network.evaluate(ds_val)\n",
    "\n",
    "network.save_weights('weight.ckpt')\n",
    "print('saved weights')\n",
    "del network"
   ]
  },
  {
   "cell_type": "code",
   "execution_count": 102,
   "metadata": {},
   "outputs": [
    {
     "name": "stdout",
     "output_type": "stream",
     "text": [
      "79/79 [==============================] - 0s 6ms/step - loss: 0.1307 - accuracy: 0.9620\n"
     ]
    },
    {
     "data": {
      "text/plain": [
       "[0.1306720431518293, 0.9682]"
      ]
     },
     "execution_count": 102,
     "metadata": {},
     "output_type": "execute_result"
    }
   ],
   "source": [
    "network = Sequential([layers.Dense(256, activation='relu'),\n",
    "                     layers.Dense(128, activation='relu'),\n",
    "                     layers.Dense(64, activation='relu'),\n",
    "                     layers.Dense(32, activation='relu'),\n",
    "                     layers.Dense(10)])\n",
    "network.compile(optimizer=optimizers.Adam(lr=0.01),loss=tf.losses.CategoricalCrossentropy(from_logits=True),metrics=['accuracy'])\n",
    "\n",
    "network.load_weights('weight.ckpt')\n",
    "network.evaluate(ds_val)"
   ]
  },
  {
   "cell_type": "code",
   "execution_count": 103,
   "metadata": {},
   "outputs": [
    {
     "name": "stdout",
     "output_type": "stream",
     "text": [
      "datasets: (60000, 28, 28) (60000,) 0 255\n",
      "(128, 784) (128, 10)\n",
      "Model: \"sequential_9\"\n",
      "_________________________________________________________________\n",
      "Layer (type)                 Output Shape              Param #   \n",
      "=================================================================\n",
      "dense_41 (Dense)             multiple                  200960    \n",
      "_________________________________________________________________\n",
      "dense_42 (Dense)             multiple                  32896     \n",
      "_________________________________________________________________\n",
      "dense_43 (Dense)             multiple                  8256      \n",
      "_________________________________________________________________\n",
      "dense_44 (Dense)             multiple                  2080      \n",
      "_________________________________________________________________\n",
      "dense_45 (Dense)             multiple                  330       \n",
      "=================================================================\n",
      "Total params: 244,522\n",
      "Trainable params: 244,522\n",
      "Non-trainable params: 0\n",
      "_________________________________________________________________\n",
      "Epoch 1/3\n"
     ]
    },
    {
     "name": "stderr",
     "output_type": "stream",
     "text": [
      "W0804 21:13:06.755337 140537229293312 util.py:244] Unresolved object in checkpoint: (root).optimizer.iter\n",
      "W0804 21:13:06.756272 140537229293312 util.py:244] Unresolved object in checkpoint: (root).optimizer.beta_1\n",
      "W0804 21:13:06.756849 140537229293312 util.py:244] Unresolved object in checkpoint: (root).optimizer.beta_2\n",
      "W0804 21:13:06.757171 140537229293312 util.py:244] Unresolved object in checkpoint: (root).optimizer.decay\n",
      "W0804 21:13:06.757596 140537229293312 util.py:244] Unresolved object in checkpoint: (root).optimizer.learning_rate\n",
      "W0804 21:13:06.758218 140537229293312 util.py:252] A checkpoint was restored (e.g. tf.train.Checkpoint.restore or tf.keras.Model.load_weights) but not all checkpointed values were used. See above for specific issues. Use expect_partial() on the load status object, e.g. tf.train.Checkpoint.restore(...).expect_partial(), to silence these warnings, or use assert_consumed() to make the check explicit. See https://www.tensorflow.org/alpha/guide/checkpoints#loading_mechanics for details.\n"
     ]
    },
    {
     "name": "stdout",
     "output_type": "stream",
     "text": [
      "469/469 [==============================] - 4s 9ms/step - loss: 0.3066 - accuracy: 0.8152\n",
      "Epoch 2/3\n",
      "469/469 [==============================] - 3s 6ms/step - loss: 0.1419 - accuracy: 0.9550 - val_loss: 0.1588 - val_accuracy: 0.9551\n",
      "Epoch 3/3\n",
      "469/469 [==============================] - 2s 5ms/step - loss: 0.1114 - accuracy: 0.9669\n",
      "79/79 [==============================] - 0s 4ms/step - loss: 0.1368 - accuracy: 0.9640\n",
      "saved total model.\n",
      "loaded model from file.\n",
      "79/79 [==============================] - 0s 3ms/step - loss: 0.1368 - accuracy: 0.9580\n"
     ]
    },
    {
     "data": {
      "text/plain": [
       "[0.13678478790282073, 0.964]"
      ]
     },
     "execution_count": 103,
     "metadata": {},
     "output_type": "execute_result"
    }
   ],
   "source": [
    "def preprocess(x, y):\n",
    "    x = tf.cast(x, dtype=tf.float32) / 255.\n",
    "    x = tf.reshape(x, [28*28])\n",
    "    y = tf.cast(y, dtype=tf.int32)\n",
    "    y = tf.one_hot(y, depth=10)\n",
    "    return x,y\n",
    "\n",
    "batchsz = 128\n",
    "(x, y), (x_val, y_val) = datasets.mnist.load_data()\n",
    "print('datasets:', x.shape, y.shape, x.min(), x.max())\n",
    "\n",
    "db = tf.data.Dataset.from_tensor_slices((x,y))\n",
    "db = db.map(preprocess).shuffle(60000).batch(batchsz)\n",
    "ds_val = tf.data.Dataset.from_tensor_slices((x_val, y_val))\n",
    "ds_val = ds_val.map(preprocess).batch(batchsz) \n",
    "\n",
    "sample = next(iter(db))\n",
    "print(sample[0].shape, sample[1].shape)\n",
    "\n",
    "network = Sequential([layers.Dense(256, activation='relu'),\n",
    "                     layers.Dense(128, activation='relu'),\n",
    "                     layers.Dense(64, activation='relu'),\n",
    "                     layers.Dense(32, activation='relu'),\n",
    "                     layers.Dense(10)])\n",
    "network.build(input_shape=(None, 28*28))\n",
    "network.summary()\n",
    "\n",
    "\n",
    "\n",
    "\n",
    "network.compile(optimizer=optimizers.Adam(lr=0.01),loss=tf.losses.CategoricalCrossentropy(from_logits=True),metrics=['accuracy'])\n",
    "\n",
    "network.fit(db, epochs=3, validation_data=ds_val, validation_freq=2)\n",
    " \n",
    "network.evaluate(ds_val)\n",
    "\n",
    "network.save('model.h5')\n",
    "print('saved total model.')\n",
    "del network\n",
    "\n",
    "print('loaded model from file.')\n",
    "network = tf.keras.models.load_model('model.h5', compile=False)\n",
    "network.compile(optimizer=optimizers.Adam(lr=0.01),\n",
    "        loss=tf.losses.CategoricalCrossentropy(from_logits=True),\n",
    "        metrics=['accuracy']\n",
    "    )\n",
    "x_val = tf.cast(x_val, dtype=tf.float32) / 255.\n",
    "x_val = tf.reshape(x_val, [-1, 28*28])\n",
    "y_val = tf.cast(y_val, dtype=tf.int32)\n",
    "y_val = tf.one_hot(y_val, depth=10)\n",
    "ds_val = tf.data.Dataset.from_tensor_slices((x_val, y_val)).batch(128)\n",
    "network.evaluate(ds_val)"
   ]
  },
  {
   "cell_type": "markdown",
   "metadata": {},
   "source": [
    "### 交叉验证"
   ]
  },
  {
   "cell_type": "code",
   "execution_count": null,
   "metadata": {},
   "outputs": [],
   "source": [
    "for epoch in range(10):\n",
    "    idx=tf.range(6000)\n",
    "    idx=tf.random.shuffle(idx)\n",
    "    x_train,y_train=tf.gather(x,idx[:50000]),tf.gather(y,[:50000])\n",
    "    x_val,y_val=tf.gather(x,idx[-10000:]),tf.gather(y,[-10000:])\n",
    "    \n",
    "    db_train=tf.data.Dataset.from_tensor_slices((x_train,y_train))\n",
    "    db_train=db.map(preprocess).shuffle(50000).batch(batchsz)\n",
    "    \n",
    "    db_val=tf.data.Dataset.from_tensor_slices((x_val,y_val))\n",
    "    db_val=db.map(preprocess).shuffle(10000).batch(batchsz)\n",
    "    \n",
    "    #training\n",
    "    #evaluate"
   ]
  },
  {
   "cell_type": "markdown",
   "metadata": {},
   "source": [
    "### 正则化"
   ]
  },
  {
   "cell_type": "code",
   "execution_count": 104,
   "metadata": {},
   "outputs": [],
   "source": [
    "l2_model=keras.models.Sequential([\n",
    "    layers.Dense(16,kernel_regularizer=keras.regularizers.l2(0.001),activation=tf.nn.relu),\n",
    "    layers.Dense(16,kernel_regularizer=keras.regularizers.l2(0.001),activation=tf.nn.relu),\n",
    "    layers.Dense(1,activation=tf.nn.sigmoid)\n",
    "])"
   ]
  },
  {
   "cell_type": "code",
   "execution_count": 105,
   "metadata": {},
   "outputs": [
    {
     "name": "stdout",
     "output_type": "stream",
     "text": [
      "Model: \"sequential_11\"\n",
      "_________________________________________________________________\n",
      "Layer (type)                 Output Shape              Param #   \n",
      "=================================================================\n",
      "dense_49 (Dense)             multiple                  200960    \n",
      "_________________________________________________________________\n",
      "dense_50 (Dense)             multiple                  32896     \n",
      "_________________________________________________________________\n",
      "dense_51 (Dense)             multiple                  8256      \n",
      "_________________________________________________________________\n",
      "dense_52 (Dense)             multiple                  2080      \n",
      "_________________________________________________________________\n",
      "dense_53 (Dense)             multiple                  330       \n",
      "=================================================================\n",
      "Total params: 244,522\n",
      "Trainable params: 244,522\n",
      "Non-trainable params: 0\n",
      "_________________________________________________________________\n"
     ]
    }
   ],
   "source": [
    "network = Sequential([layers.Dense(256, activation='relu'),\n",
    "                     layers.Dense(128, activation='relu'),\n",
    "                     layers.Dense(64, activation='relu'),\n",
    "                     layers.Dense(32, activation='relu'),\n",
    "                     layers.Dense(10)])\n",
    "network.build(input_shape=(None, 28*28))\n",
    "network.summary()\n",
    "\n",
    "optimizer = optimizers.Adam(lr=0.01)"
   ]
  },
  {
   "cell_type": "code",
   "execution_count": 113,
   "metadata": {},
   "outputs": [
    {
     "name": "stdout",
     "output_type": "stream",
     "text": [
      "datasets: (60000, 28, 28) (60000,) 0 255\n",
      "0 loss: 0.20362228155136108 loss_regularization: 932.910400390625\n",
      "78 Evaluate Acc: 0.9576\n",
      "100 loss: 0.178762286901474 loss_regularization: 946.795166015625\n",
      "200 loss: 0.2993295192718506 loss_regularization: 955.0184326171875\n",
      "300 loss: 0.19957485795021057 loss_regularization: 972.0921020507812\n",
      "400 loss: 0.1381649672985077 loss_regularization: 973.9028930664062\n",
      "500 loss: 0.2626662254333496 loss_regularization: 993.1807250976562\n",
      "78 Evaluate Acc: 0.9445\n",
      "600 loss: 0.21154773235321045 loss_regularization: 1047.5269775390625\n",
      "700 loss: 0.3527221083641052 loss_regularization: 1061.0224609375\n",
      "800 loss: 0.22572976350784302 loss_regularization: 1035.6202392578125\n",
      "900 loss: 0.29779577255249023 loss_regularization: 1117.126708984375\n",
      "1000 loss: 0.2592007517814636 loss_regularization: 1145.0894775390625\n",
      "78 Evaluate Acc: 0.9631\n",
      "1100 loss: 0.20304462313652039 loss_regularization: 1134.4788818359375\n",
      "1200 loss: 0.3347386419773102 loss_regularization: 1121.5052490234375\n",
      "1300 loss: 0.3209141790866852 loss_regularization: 1118.3121337890625\n",
      "1400 loss: 0.16039080917835236 loss_regularization: 1114.9097900390625\n",
      "1500 loss: 0.21266385912895203 loss_regularization: 1053.6512451171875\n",
      "78 Evaluate Acc: 0.9673\n",
      "1600 loss: 0.16749590635299683 loss_regularization: 1055.0858154296875\n",
      "1700 loss: 0.2856566905975342 loss_regularization: 1083.9864501953125\n",
      "1800 loss: 0.3140038251876831 loss_regularization: 1119.9716796875\n",
      "1900 loss: 0.25933974981307983 loss_regularization: 1136.8848876953125\n",
      "2000 loss: 0.22969689965248108 loss_regularization: 1140.496826171875\n",
      "78 Evaluate Acc: 0.9593\n",
      "2100 loss: 0.2231803685426712 loss_regularization: 1133.8203125\n",
      "2200 loss: 0.40161898732185364 loss_regularization: 1158.476806640625\n",
      "2300 loss: 0.13515765964984894 loss_regularization: 1122.8846435546875\n",
      "2400 loss: 0.14659810066223145 loss_regularization: 1153.7607421875\n",
      "2500 loss: 0.27594703435897827 loss_regularization: 1125.3072509765625\n",
      "78 Evaluate Acc: 0.9709\n",
      "2600 loss: 0.17764043807983398 loss_regularization: 1111.1458740234375\n",
      "2700 loss: 0.2591463029384613 loss_regularization: 1102.2255859375\n",
      "2800 loss: 0.29740944504737854 loss_regularization: 1141.3724365234375\n",
      "2900 loss: 0.14474524557590485 loss_regularization: 1119.30810546875\n",
      "3000 loss: 0.2968716621398926 loss_regularization: 1126.5838623046875\n",
      "78 Evaluate Acc: 0.963\n",
      "3100 loss: 0.19557709991931915 loss_regularization: 1139.1435546875\n",
      "3200 loss: 0.3295632004737854 loss_regularization: 1175.1346435546875\n",
      "3300 loss: 0.18548095226287842 loss_regularization: 1120.180419921875\n",
      "3400 loss: 0.1845008134841919 loss_regularization: 1111.2801513671875\n",
      "3500 loss: 0.4218185544013977 loss_regularization: 1112.9105224609375\n",
      "78 Evaluate Acc: 0.9595\n",
      "3600 loss: 0.24915170669555664 loss_regularization: 1096.85302734375\n",
      "3700 loss: 0.24328304827213287 loss_regularization: 1106.1514892578125\n",
      "3800 loss: 0.3034208118915558 loss_regularization: 1087.5523681640625\n",
      "3900 loss: 0.30150604248046875 loss_regularization: 1105.18896484375\n",
      "4000 loss: 0.1337929666042328 loss_regularization: 1102.152587890625\n",
      "78 Evaluate Acc: 0.9645\n",
      "4100 loss: 0.1680811047554016 loss_regularization: 1101.4664306640625\n",
      "4200 loss: 0.37027615308761597 loss_regularization: 1174.955322265625\n",
      "4300 loss: 0.2012997269630432 loss_regularization: 1117.9771728515625\n",
      "4400 loss: 0.1358720362186432 loss_regularization: 1119.899658203125\n",
      "4500 loss: 0.13078178465366364 loss_regularization: 1111.873046875\n",
      "78 Evaluate Acc: 0.9674\n",
      "4600 loss: 0.15582285821437836 loss_regularization: 1094.697998046875\n"
     ]
    }
   ],
   "source": [
    "def preprocess(x, y):\n",
    "\n",
    "    x = tf.cast(x, dtype=tf.float32) / 255.\n",
    "    y = tf.cast(y, dtype=tf.int32)\n",
    "\n",
    "    return x,y\n",
    "\n",
    "\n",
    "batchsz = 128\n",
    "(x, y), (x_val, y_val) = datasets.mnist.load_data()\n",
    "print('datasets:', x.shape, y.shape, x.min(), x.max())\n",
    "\n",
    "\n",
    "\n",
    "db = tf.data.Dataset.from_tensor_slices((x,y))\n",
    "db = db.map(preprocess).shuffle(60000).batch(batchsz).repeat(10)\n",
    "\n",
    "ds_val = tf.data.Dataset.from_tensor_slices((x_val, y_val))\n",
    "ds_val = ds_val.map(preprocess).batch(batchsz) \n",
    "\n",
    "for step, (x,y) in enumerate(db):\n",
    "\n",
    "    with tf.GradientTape() as tape:\n",
    "        x = tf.reshape(x, (-1, 28*28))\n",
    "        out = network(x)\n",
    "        y_onehot = tf.one_hot(y, depth=10) \n",
    "        loss = tf.reduce_mean(tf.losses.categorical_crossentropy(y_onehot, out, from_logits=True))\n",
    "        \n",
    "        loss_regularization = []\n",
    "        for p in network.trainable_variables:\n",
    "            loss_regularization.append(tf.nn.l2_loss(p))\n",
    "        loss_regularization = tf.reduce_sum(tf.stack(loss_regularization))\n",
    "\n",
    "        loss = loss + 0.0001 * loss_regularization\n",
    "    grads = tape.gradient(loss, network.trainable_variables)\n",
    "    optimizer.apply_gradients(zip(grads, network.trainable_variables))\n",
    "\n",
    "    if step % 100 == 0:\n",
    "        print(step, 'loss:', float(loss), 'loss_regularization:', float(loss_regularization)) \n",
    "\n",
    "    if step % 500 == 0:\n",
    "        total, total_correct = 0., 0\n",
    "\n",
    "        for step, (x, y) in enumerate(ds_val): \n",
    "            x = tf.reshape(x, (-1, 28*28))\n",
    "            out = network(x) \n",
    "            pred = tf.argmax(out, axis=1) \n",
    "            pred = tf.cast(pred, dtype=tf.int32)\n",
    "            correct = tf.equal(pred, y)\n",
    "            total_correct += tf.reduce_sum(tf.cast(correct, dtype=tf.int32)).numpy()\n",
    "            total += x.shape[0]\n",
    "\n",
    "        print(step, 'Evaluate Acc:', total_correct/total)"
   ]
  },
  {
   "cell_type": "markdown",
   "metadata": {},
   "source": [
    "### CNN"
   ]
  },
  {
   "cell_type": "code",
   "execution_count": 3,
   "metadata": {},
   "outputs": [],
   "source": [
    "import  tensorflow as tf\n",
    "from tensorflow.keras import layers, optimizers, datasets, Sequential\n",
    "import  os\n",
    "tf.random.set_seed(2345)"
   ]
  },
  {
   "cell_type": "code",
   "execution_count": 4,
   "metadata": {},
   "outputs": [],
   "source": [
    "conv_layers=[\n",
    "    layers.Conv2D(64,kernel_size=[3,3],padding=\"same\",activation=tf.nn.relu),\n",
    "    layers.Conv2D(64,kernel_size=[3,3],padding=\"same\",activation=tf.nn.relu),\n",
    "    layers.MaxPool2D(pool_size=[2,2],strides=2,padding=\"same\"),\n",
    "    \n",
    "    layers.Conv2D(128,kernel_size=[3,3],padding=\"same\",activation=tf.nn.relu),\n",
    "    layers.Conv2D(128,kernel_size=[3,3],padding=\"same\",activation=tf.nn.relu),\n",
    "    layers.MaxPool2D(pool_size=[2,2],strides=2,padding=\"same\"),\n",
    "    \n",
    "    layers.Conv2D(256, kernel_size=[3, 3], padding=\"same\", activation=tf.nn.relu),\n",
    "    layers.Conv2D(256, kernel_size=[3, 3], padding=\"same\", activation=tf.nn.relu),\n",
    "    layers.MaxPool2D(pool_size=[2, 2], strides=2, padding='same'),\n",
    "    \n",
    "    layers.Conv2D(512, kernel_size=[3, 3], padding=\"same\", activation=tf.nn.relu),\n",
    "    layers.Conv2D(512, kernel_size=[3, 3], padding=\"same\", activation=tf.nn.relu),\n",
    "    layers.MaxPool2D(pool_size=[2, 2], strides=2, padding='same'),\n",
    "    \n",
    "    layers.Conv2D(512, kernel_size=[3, 3], padding=\"same\", activation=tf.nn.relu),\n",
    "    layers.Conv2D(512, kernel_size=[3, 3], padding=\"same\", activation=tf.nn.relu),\n",
    "    layers.MaxPool2D(pool_size=[2, 2], strides=2, padding='same')\n",
    "]"
   ]
  },
  {
   "cell_type": "code",
   "execution_count": 5,
   "metadata": {},
   "outputs": [],
   "source": [
    "def preprocess(x,y):\n",
    "    x=tf.cast(x,dtype=tf.float32)/255\n",
    "    y=tf.cast(y,dtype=tf.int32)\n",
    "    return x,y"
   ]
  },
  {
   "cell_type": "code",
   "execution_count": 7,
   "metadata": {},
   "outputs": [
    {
     "name": "stdout",
     "output_type": "stream",
     "text": [
      "(50000, 1)\n",
      "(50000, 32, 32, 3) (50000,) (10000, 32, 32, 3) (10000,)\n"
     ]
    },
    {
     "data": {
      "text/plain": [
       "<tf.Tensor: id=6, shape=(50000,), dtype=int64, numpy=array([19, 29,  0, ...,  3,  7, 73])>"
      ]
     },
     "execution_count": 7,
     "metadata": {},
     "output_type": "execute_result"
    }
   ],
   "source": [
    "(x,y),(x_test,y_test)=datasets.cifar100.load_data()\n",
    "print(y.shape)\n",
    "y=tf.squeeze(y,axis=1)\n",
    "y_test=tf.squeeze(y_test,axis=1)\n",
    "print(x.shape,y.shape,x_test.shape,y_test.shape)"
   ]
  },
  {
   "cell_type": "code",
   "execution_count": 9,
   "metadata": {},
   "outputs": [],
   "source": [
    "train_db = tf.data.Dataset.from_tensor_slices((x,y))\n",
    "train_db = train_db.shuffle(1000).map(preprocess).batch(128)\n",
    "\n",
    "test_db = tf.data.Dataset.from_tensor_slices((x_test,y_test))\n",
    "test_db = test_db.map(preprocess).batch(64)"
   ]
  },
  {
   "cell_type": "code",
   "execution_count": 10,
   "metadata": {},
   "outputs": [
    {
     "name": "stdout",
     "output_type": "stream",
     "text": [
      "(128, 32, 32, 3) (128,) tf.Tensor(0.0, shape=(), dtype=float32) tf.Tensor(1.0, shape=(), dtype=float32)\n"
     ]
    }
   ],
   "source": [
    "sample=next(iter(train_db))\n",
    "print(sample[0].shape,sample[1].shape,tf.reduce_min(sample[0]),tf.reduce_max(sample[0]))"
   ]
  },
  {
   "cell_type": "code",
   "execution_count": 16,
   "metadata": {},
   "outputs": [],
   "source": [
    "def main():\n",
    "    conv_net=Sequential(conv_layers)\n",
    "    \n",
    "    fc_net=Sequential([\n",
    "        layers.Dense(256,activation=tf.nn.relu),\n",
    "        layers.Dense(128,activation=tf.nn.relu),\n",
    "        layers.Dense(100,activation=None),\n",
    "    ])\n",
    "    \n",
    "    conv_net.build(input_shape=[None,32,32,3])\n",
    "    fc_net.build(input_shape=[None,512])\n",
    "    optimizer=optimizers.Adam(learning_rate=1e-4)\n",
    "    \n",
    "    variables=conv_net.trainable_variables+fc_net.trainable_variables\n",
    "    \n",
    "    for epoch in range(10):\n",
    "        for step,(x,y) in enumerate(train_db):\n",
    "            with tf.GradientTape() as tape:\n",
    "                out=conv_net(x);\n",
    "                out=tf.reshape(out,[-1,512])\n",
    "                logits=fc_net(out)\n",
    "                y_onehot=tf.one_hot(y,depth=100)\n",
    "                \n",
    "                loss=tf.losses.categorical_crossentropy(y_onehot,logits,from_logits=True)\n",
    "                loss=tf.reduce_mean(loss)\n",
    "                \n",
    "            grad=tape.gradient(loss,variables)\n",
    "            optimizer.apply_gradients(zip(grad,variables))\n",
    "            \n",
    "            \n",
    "            if  step%100==0:\n",
    "                print(epoch,step,'loss',float(loss))\n",
    "                \n",
    "        total_num=0\n",
    "        total_correct=0\n",
    "        for x,y in test_db:\n",
    "            out=conv_net(x)\n",
    "            out=tf.reshape(out,[-1,512])\n",
    "            logits=fc_net(out)\n",
    "            prob=tf.nn.softmax(logits,axis=1)\n",
    "            pred=tf.argmax(prob,axis=1)\n",
    "            pred=tf.cast(pred,dtype=tf.int32)\n",
    "            \n",
    "            correct=tf.cast(tf.equal(pred,y),dtype=tf.int32)\n",
    "            correct=tf.reduce_sum(correct)\n",
    "            \n",
    "            total_num+=x.shape[0]\n",
    "            total_correct+=int(correct)\n",
    "            \n",
    "        acc=total_correct/total_num\n",
    "        print(epoch,'acc: ',acc)"
   ]
  },
  {
   "cell_type": "code",
   "execution_count": 19,
   "metadata": {},
   "outputs": [],
   "source": [
    "if __name__=='__main__':\n",
    "#     main()\n",
    "    pass"
   ]
  },
  {
   "cell_type": "markdown",
   "metadata": {},
   "source": [
    "### BN"
   ]
  },
  {
   "cell_type": "code",
   "execution_count": 20,
   "metadata": {},
   "outputs": [
    {
     "name": "stdout",
     "output_type": "stream",
     "text": [
      "forward in test mode: [<tf.Variable 'batch_normalization/gamma:0' shape=(3,) dtype=float32, numpy=array([1., 1., 1.], dtype=float32)>, <tf.Variable 'batch_normalization/beta:0' shape=(3,) dtype=float32, numpy=array([0., 0., 0.], dtype=float32)>, <tf.Variable 'batch_normalization/moving_mean:0' shape=(3,) dtype=float32, numpy=array([0., 0., 0.], dtype=float32)>, <tf.Variable 'batch_normalization/moving_variance:0' shape=(3,) dtype=float32, numpy=array([1., 1., 1.], dtype=float32)>]\n"
     ]
    }
   ],
   "source": [
    "x=tf.random.normal([2,4,4,3],mean=1,stddev=0.5)\n",
    "net=layers.BatchNormalization(axis=-1,center=True,scale=True,trainable=True)\n",
    "\n",
    "out=net(x)\n",
    "print('forward in test mode:',net.variables)"
   ]
  },
  {
   "cell_type": "code",
   "execution_count": 21,
   "metadata": {},
   "outputs": [
    {
     "name": "stdout",
     "output_type": "stream",
     "text": [
      "forward in train mode(100 steps): [<tf.Variable 'batch_normalization/gamma:0' shape=(3,) dtype=float32, numpy=array([1., 1., 1.], dtype=float32)>, <tf.Variable 'batch_normalization/beta:0' shape=(3,) dtype=float32, numpy=array([0., 0., 0.], dtype=float32)>, <tf.Variable 'batch_normalization/moving_mean:0' shape=(3,) dtype=float32, numpy=array([0.67002153, 0.6030357 , 0.56003165], dtype=float32)>, <tf.Variable 'batch_normalization/moving_variance:0' shape=(3,) dtype=float32, numpy=array([0.5016272 , 0.48235735, 0.4994869 ], dtype=float32)>]\n"
     ]
    }
   ],
   "source": [
    "for i in range(100):\n",
    "    out = net(x, training=True)\n",
    "print('forward in train mode(100 steps):', net.variables)"
   ]
  },
  {
   "cell_type": "code",
   "execution_count": 22,
   "metadata": {},
   "outputs": [
    {
     "name": "stdout",
     "output_type": "stream",
     "text": [
      "backward(10 steps): [<tf.Variable 'batch_normalization/gamma:0' shape=(3,) dtype=float32, numpy=array([0.93559974, 0.9356494 , 0.9356046 ], dtype=float32)>, <tf.Variable 'batch_normalization/beta:0' shape=(3,) dtype=float32, numpy=array([-3.0407681e-09, -3.7997960e-09,  1.5832484e-08], dtype=float32)>, <tf.Variable 'batch_normalization/moving_mean:0' shape=(3,) dtype=float32, numpy=array([0.7070112 , 0.6363273 , 0.59094924], dtype=float32)>, <tf.Variable 'batch_normalization/moving_variance:0' shape=(3,) dtype=float32, numpy=array([0.47411364, 0.45378   , 0.4718552 ], dtype=float32)>]\n"
     ]
    }
   ],
   "source": [
    "optimizer = optimizers.SGD(lr=1e-2)\n",
    "for i in range(10):\n",
    "    with tf.GradientTape() as tape:\n",
    "        out = net(x, training=True)\n",
    "        loss = tf.reduce_mean(tf.pow(out,2)) - 1\n",
    "\n",
    "    grads = tape.gradient(loss, net.trainable_variables)\n",
    "    optimizer.apply_gradients(zip(grads, net.trainable_variables))\n",
    "print('backward(10 steps):', net.variables)"
   ]
  },
  {
   "cell_type": "markdown",
   "metadata": {},
   "source": [
    "### ResNet"
   ]
  },
  {
   "cell_type": "code",
   "execution_count": 23,
   "metadata": {},
   "outputs": [],
   "source": [
    "import  tensorflow as tf\n",
    "from tensorflow import keras\n",
    "from tensorflow.keras import layers, Sequential"
   ]
  },
  {
   "cell_type": "code",
   "execution_count": 28,
   "metadata": {},
   "outputs": [],
   "source": [
    "class BasicBlock(layers.Layer):\n",
    "    def __init__(self,filter_nums,stride=1):\n",
    "        super(BasicBlock,self).__init__()\n",
    "        \n",
    "        self.conv1=layers.Conv2D(filter_nums,(3,3),strides=stride,padding='same')\n",
    "        self.bn1=layers.BatchNormalization()\n",
    "        self.relu=layers.Activation('relu')\n",
    "        \n",
    "        self.conv2=layers.Conv2D(filter_nums,(3,3),strides=1,padding='same')\n",
    "        self.bn2=layers.BatchNormalization()\n",
    "        \n",
    "        if stride!=1:\n",
    "            self.downsample=Sequential()\n",
    "            self.downsample.add(layers.Conv2D(filter_nums,(1,1),strides=stride))\n",
    "        else:\n",
    "            self.downsample=lambda x:x\n",
    "            \n",
    "    def call(self,inputs,training=None):\n",
    "        out=self.conv1(inputs)\n",
    "        out=self.bn1(out)\n",
    "        out=self.relu(out)\n",
    "        \n",
    "        out=self.conv2(out)\n",
    "        out=self.bn2(out)\n",
    "        \n",
    "        identity=self.downsample(inputs)\n",
    "        output=layers.add([out,identity])\n",
    "        output=tf.nn.relu(output)\n",
    "        \n",
    "        return output\n",
    "    \n",
    "class ResNet(keras.Model):\n",
    "    def __init__(self,layer_dims,num_classes=100):\n",
    "        super(ResNet,self).__init__()\n",
    "        \n",
    "        self.stem=Sequential([\n",
    "            layers.Conv2D(64,(3,3),strides=(1,1)),\n",
    "            layers.BatchNormalization(),\n",
    "            layers.Activation('relu'),\n",
    "            layers.MaxPool2D(pool_size=(2,2),strides=(1,1),padding='same')\n",
    "        ])\n",
    "        \n",
    "        self.layers1=self.build_resblock(64,layer_dims[0])\n",
    "        self.layers2=self.build_resblock(128,layer_dims[1],stride=2)\n",
    "        self.layers3=self.build_resblock(256,layer_dims[2],stride=2)\n",
    "        self.layers4=self.build_resblock(512,layer_dims[3],stride=2)\n",
    "        \n",
    "        self.avgpool=layers.GlobalAveragePooling2D()\n",
    "        self.fc=layers.Dense(num_classes)\n",
    "        \n",
    "    def call(self,inputs,training=None):\n",
    "        x=self.stem(inputs)\n",
    "        x=self.layers1(x)\n",
    "        x=self.layers2(x)\n",
    "        x=self.layers3(x)\n",
    "        x=self.layers4(x)\n",
    "        \n",
    "        x=self.avgpool(x)\n",
    "        x=self.fc(x)\n",
    "        return x\n",
    "    \n",
    "    def build_resblock(self,filter_num,blocks,stride=1):\n",
    "        res_blocks=Sequential()\n",
    "        res_blocks.add(BasicBlock(filter_num,stride))\n",
    "        \n",
    "        for _ in range(1,blocks):\n",
    "            res_blocks.add(BasicBlock(filter_num,stride=1))\n",
    "        return res_blocks\n",
    "    \n",
    "def resnet18():\n",
    "    return ResNet([2,2,2,2])\n",
    "def resnet34():\n",
    "    return ResNet([3,4,6,3])"
   ]
  },
  {
   "cell_type": "code",
   "execution_count": 31,
   "metadata": {},
   "outputs": [
    {
     "name": "stdout",
     "output_type": "stream",
     "text": [
      "Model: \"res_net_3\"\n",
      "_________________________________________________________________\n",
      "Layer (type)                 Output Shape              Param #   \n",
      "=================================================================\n",
      "sequential_24 (Sequential)   multiple                  2048      \n",
      "_________________________________________________________________\n",
      "sequential_25 (Sequential)   multiple                  148736    \n",
      "_________________________________________________________________\n",
      "sequential_26 (Sequential)   multiple                  526976    \n",
      "_________________________________________________________________\n",
      "sequential_28 (Sequential)   multiple                  2102528   \n",
      "_________________________________________________________________\n",
      "sequential_30 (Sequential)   multiple                  8399360   \n",
      "_________________________________________________________________\n",
      "global_average_pooling2d_2 ( multiple                  0         \n",
      "_________________________________________________________________\n",
      "dense_8 (Dense)              multiple                  51300     \n",
      "=================================================================\n",
      "Total params: 11,230,948\n",
      "Trainable params: 11,223,140\n",
      "Non-trainable params: 7,808\n",
      "_________________________________________________________________\n"
     ]
    }
   ],
   "source": [
    "model=resnet18()\n",
    "model.build(input_shape=(None,32,32,3))\n",
    "model.summary()"
   ]
  },
  {
   "cell_type": "markdown",
   "metadata": {},
   "source": [
    "### RNN"
   ]
  },
  {
   "cell_type": "code",
   "execution_count": 44,
   "metadata": {},
   "outputs": [],
   "source": [
    "import os \n",
    "import tensorflow as tf\n",
    "import numpy as np\n",
    "from tensorflow import keras\n",
    "from tensorflow.keras import layers\n",
    "tf.random.set_seed(22)\n",
    "np.random.seed(22)"
   ]
  },
  {
   "cell_type": "code",
   "execution_count": 47,
   "metadata": {},
   "outputs": [
    {
     "name": "stdout",
     "output_type": "stream",
     "text": [
      "x_train shape: (25000, 80) tf.Tensor(1, shape=(), dtype=int64) tf.Tensor(0, shape=(), dtype=int64)\n",
      "x_test shape: (25000, 80)\n"
     ]
    }
   ],
   "source": [
    "batchsz=128\n",
    "\n",
    "total_words=10000\n",
    "max_review_len=80\n",
    "embedding_len=100\n",
    "(x_train,y_train),(x_test,y_test)=keras.datasets.imdb.load_data(num_words=total_words)\n",
    "x_train=keras.preprocessing.sequence.pad_sequences(x_train,maxlen=max_review_len)\n",
    "x_test=keras.preprocessing.sequence.pad_sequences(x_test,maxlen=max_review_len)\n",
    "# print(x_train.shape)\n",
    "db_train=tf.data.Dataset.from_tensor_slices((x_train,y_train))\n",
    "db_train=db_train.shuffle(1000).batch(batchsz,drop_remainder=True)\n",
    "db_test = tf.data.Dataset.from_tensor_slices((x_test, y_test))\n",
    "db_test = db_test.batch(batchsz, drop_remainder=True)\n",
    "print('x_train shape:', x_train.shape, tf.reduce_max(y_train), tf.reduce_min(y_train))\n",
    "print('x_test shape:', x_test.shape)"
   ]
  },
  {
   "cell_type": "code",
   "execution_count": 48,
   "metadata": {},
   "outputs": [],
   "source": [
    "class MyRNN(keras.Model):\n",
    "    def __init__(self,units):\n",
    "        super(MyRNN,self).__init__()\n",
    "        \n",
    "        self.state0=[tf.zeros([batchsz,units])]\n",
    "        self.state1=[tf.zeros([batchsz,units])]\n",
    "        \n",
    "        self.embedding=layers.Embedding(total_words,embedding_len,input_length=max_review_len)\n",
    "        \n",
    "        self.rnn_cell0=layers.SimpleRNNCell(units,dropout=0.5)\n",
    "        self.rnn_cell1=layers.SimpleRNNCell(units,dropout=0.5)\n",
    "        \n",
    "        slef.outlayer=layers.Dense(1)\n",
    "        \n",
    "    def call(self,inputs,training=None):\n",
    "        x=inputs\n",
    "        x=self.embedding(x)\n",
    "        \n",
    "        state0=self.state0\n",
    "        state1=self.state1\n",
    "        \n",
    "        for word in tf.unstack(x,axis=1):\n",
    "            out0,state0=self.rnn_cell0(word,state0,training)\n",
    "            out1,state1=self.rnn_cell1(out0,state1,training)\n",
    "            \n",
    "        x=self.outlayer(out1)\n",
    "        prob=tf.sigmoid(x)\n",
    "        \n",
    "        return prob"
   ]
  },
  {
   "cell_type": "code",
   "execution_count": 49,
   "metadata": {},
   "outputs": [],
   "source": [
    "def main():\n",
    "    units=64\n",
    "    epochs=4\n",
    "    \n",
    "    model=MyRNN(units)\n",
    "    model.compile(optimizer=keras.optimizers.Adam(0.001),loss=tf.losses.BinaryCrossentropy(),metrics=['accuracy'])\n",
    "    model.fit(db_train,epochs=epochs,validation_data=db_test)"
   ]
  },
  {
   "cell_type": "markdown",
   "metadata": {},
   "source": [
    "### LSTM"
   ]
  },
  {
   "cell_type": "code",
   "execution_count": 50,
   "metadata": {},
   "outputs": [],
   "source": [
    "class MyRNN(keras.Model):\n",
    "    def __init__(self,units):\n",
    "        super(MyRNN,self).__init__()\n",
    "        \n",
    "        self.embedding=layers.embedding(total_words,embedding_len,input_length=max_review_len)\n",
    "        \n",
    "        self.rnn=keras.Sequential([\n",
    "            layers.LSTM(units,dropout=0.5,return_sequences=True,unroll=True),\n",
    "            layers.LSTM(units,dropout=0.5,unroll=True)\n",
    "        ])\n",
    "        \n",
    "        self.outlayer=layers.Dense(1)\n",
    "        \n",
    "    def call(self,inputs,training=None):\n",
    "        x=inputs\n",
    "        x=self.embedding(x)\n",
    "        x=self.rnn(x)\n",
    "        x=self.outlayer(x)\n",
    "        prob=tf.sigmoid(x)\n",
    "        \n",
    "        return prob"
   ]
  },
  {
   "cell_type": "code",
   "execution_count": 51,
   "metadata": {},
   "outputs": [],
   "source": [
    "def main():\n",
    "    units = 64\n",
    "    epochs = 4\n",
    "\n",
    "    import time\n",
    "\n",
    "    t0 = time.time()\n",
    "\n",
    "    model = MyRNN(units)\n",
    "    model.compile(optimizer = keras.optimizers.Adam(0.001),\n",
    "                  loss = tf.losses.BinaryCrossentropy(),\n",
    "                  metrics=['accuracy'])\n",
    "    model.fit(db_train, epochs=epochs, validation_data=db_test)\n",
    "\n",
    "    model.evaluate(db_test)\n",
    "\n",
    "\n",
    "    t1 = time.time()\n",
    "    print('total time cost:', t1-t0)"
   ]
  },
  {
   "cell_type": "markdown",
   "metadata": {},
   "source": [
    "### AE"
   ]
  },
  {
   "cell_type": "code",
   "execution_count": 2,
   "metadata": {},
   "outputs": [],
   "source": [
    "import os\n",
    "import tensorflow as tf\n",
    "import numpy as np\n",
    "from tensorflow import keras\n",
    "from tensorflow.keras import Sequential,layers\n",
    "from PIL import Image\n",
    "from matplotlib import pyplot as  plt\n",
    "\n",
    "tf.random.set_seed(22)\n",
    "np.random.seed(22)"
   ]
  },
  {
   "cell_type": "code",
   "execution_count": 12,
   "metadata": {},
   "outputs": [],
   "source": [
    "def save_images(imgs, name):\n",
    "    new_im = Image.new('L', (280, 280))\n",
    "\n",
    "    index = 0\n",
    "    for i in range(0, 280, 28):\n",
    "        for j in range(0, 280, 28):\n",
    "            im = imgs[index]\n",
    "            im = Image.fromarray(im, mode='L')\n",
    "            new_im.paste(im, (i, j))\n",
    "            index += 1\n",
    "\n",
    "    new_im.save(name)"
   ]
  },
  {
   "cell_type": "code",
   "execution_count": 4,
   "metadata": {},
   "outputs": [
    {
     "name": "stderr",
     "output_type": "stream",
     "text": [
      "WARNING: Logging before flag parsing goes to stderr.\n",
      "W0807 20:24:28.457795 139667446822656 deprecation.py:323] From /home/gengdd/anaconda3/lib/python3.7/site-packages/tensorflow/python/data/util/random_seed.py:58: add_dispatch_support.<locals>.wrapper (from tensorflow.python.ops.array_ops) is deprecated and will be removed in a future version.\n",
      "Instructions for updating:\n",
      "Use tf.where in 2.0, which has the same broadcast rule as np.where\n"
     ]
    },
    {
     "name": "stdout",
     "output_type": "stream",
     "text": [
      "(60000, 28, 28) (60000,)\n",
      "(10000, 28, 28) (10000,)\n"
     ]
    }
   ],
   "source": [
    "h_dim=20\n",
    "batchsz=512\n",
    "lr=1e-3\n",
    "\n",
    "(x_train,y_train),(x_test,y_test)=keras.datasets.fashion_mnist.load_data()\n",
    "x_train,x_test=x_train.astype(np.float32)/255.,x_test.astype(np.float32)/255.\n",
    "\n",
    "train_db=tf.data.Dataset.from_tensor_slices(x_train)\n",
    "train_db=train_db.shuffle(batchsz*5).batch(batchsz)\n",
    "test_db=tf.data.Dataset.from_tensor_slices(x_test)\n",
    "test_db=test_db.batch(batchsz)\n",
    "\n",
    "print(x_train.shape,y_train.shape)\n",
    "print(x_test.shape,y_test.shape)"
   ]
  },
  {
   "cell_type": "code",
   "execution_count": 7,
   "metadata": {},
   "outputs": [
    {
     "name": "stdout",
     "output_type": "stream",
     "text": [
      "Model: \"ae_1\"\n",
      "_________________________________________________________________\n",
      "Layer (type)                 Output Shape              Param #   \n",
      "=================================================================\n",
      "sequential_2 (Sequential)    multiple                  235146    \n",
      "_________________________________________________________________\n",
      "sequential_3 (Sequential)    multiple                  235920    \n",
      "=================================================================\n",
      "Total params: 471,066\n",
      "Trainable params: 471,066\n",
      "Non-trainable params: 0\n",
      "_________________________________________________________________\n"
     ]
    }
   ],
   "source": [
    "class AE(keras.Model):\n",
    "    def __init__(self):\n",
    "        super(AE,self).__init__()\n",
    "        \n",
    "        self.encoder=Sequential([\n",
    "            layers.Dense(256,activation=tf.nn.relu),\n",
    "            layers.Dense(128,activation=tf.nn.relu),\n",
    "            layers.Dense(10)\n",
    "        ])\n",
    "        \n",
    "        self.decoder=Sequential([\n",
    "            layers.Dense(128,activation=tf.nn.relu),\n",
    "            layers.Dense(256,activation=tf.nn.relu),\n",
    "            layers.Dense(784)\n",
    "        ])\n",
    "        \n",
    "    def call(self,inputs,training=None):\n",
    "        h=self.encoder(inputs)\n",
    "        x_hat=self.decoder(h)\n",
    "        return x_hat\n",
    "    \n",
    "model=AE()\n",
    "model.build(input_shape=(None,784))\n",
    "model.summary()"
   ]
  },
  {
   "cell_type": "code",
   "execution_count": 15,
   "metadata": {},
   "outputs": [
    {
     "name": "stdout",
     "output_type": "stream",
     "text": [
      "0 0 0.6890155076980591\n",
      "0 100 0.32175594568252563\n",
      "1 0 0.3093436658382416\n",
      "1 100 0.30249252915382385\n",
      "2 0 0.2934049963951111\n",
      "2 100 0.29487597942352295\n",
      "3 0 0.28755390644073486\n",
      "3 100 0.2904605269432068\n",
      "4 0 0.2830025255680084\n",
      "4 100 0.287821888923645\n",
      "5 0 0.2804604470729828\n",
      "5 100 0.2853323817253113\n",
      "6 0 0.27826187014579773\n",
      "6 100 0.28369957208633423\n",
      "7 0 0.27666956186294556\n",
      "7 100 0.2820832133293152\n",
      "8 0 0.27501022815704346\n",
      "8 100 0.28078362345695496\n",
      "9 0 0.2737361788749695\n",
      "9 100 0.2812819480895996\n"
     ]
    }
   ],
   "source": [
    "optimizer=tf.optimizers.Adam(learning_rate=lr)\n",
    "\n",
    "for epoch in range(10):\n",
    "    for step,x in enumerate(train_db):\n",
    "        x=tf.reshape(x,[-1,784])\n",
    "        with tf.GradientTape() as tape:\n",
    "            x_rec_logits=model(x)\n",
    "            \n",
    "            rec_loss=tf.losses.binary_crossentropy(x,x_rec_logits,from_logits=True)\n",
    "            rec_loss=tf.reduce_mean(rec_loss)\n",
    "        \n",
    "        grads=tape.gradient(rec_loss,model.trainable_variables)\n",
    "        optimizer.apply_gradients(zip(grads,model.trainable_variables))\n",
    "        \n",
    "        if step%100==0:\n",
    "            print(epoch,step,float(rec_loss))\n",
    "        \n",
    "        x=next(iter(test_db))\n",
    "        logits=model(tf.reshape(x,[-1,784]))\n",
    "        x_hat=tf.sigmoid(logits)\n",
    "        x_hat=tf.reshape(x_hat,[-1,28,28])\n",
    "        \n",
    "        x_concat=tf.concat([x,x_hat],axis=0)\n",
    "        x_concat=x_hat\n",
    "        x_concat=x_concat.numpy()*255\n",
    "        x_concat=x_concat.astype(np.uint8)\n",
    "        \n",
    "#         save_images(x_concat, 'ae_images/rec_epoch_%d.png'%epoch)"
   ]
  },
  {
   "cell_type": "markdown",
   "metadata": {},
   "source": [
    "### VAE"
   ]
  },
  {
   "cell_type": "code",
   "execution_count": 16,
   "metadata": {},
   "outputs": [],
   "source": [
    "class VAE(keras.Model):\n",
    "    \n",
    "    def __init__(self):\n",
    "        super(VAE,self).__init__()\n",
    "        \n",
    "        self.fc1=layers.Dense(128)\n",
    "        self.fc2=layers.Dense(10)\n",
    "        self.fc3=layers.Dense(10)\n",
    "        \n",
    "        self.fc4=layers.Dense(128)\n",
    "        self.fc5=layers.Dense(784)\n",
    "        \n",
    "    def encoder(self,x):\n",
    "        h=tf.nn.relu(self.fc1(x))\n",
    "        \n",
    "        mu=self.fc2(h)\n",
    "        log_var=self.fc3(h)\n",
    "        \n",
    "        return mu,log_var\n",
    "    \n",
    "    def decoder(self,x):\n",
    "        out=tf.nn.relu(self.fc4(z))\n",
    "        out=self.fc5(out)\n",
    "        return out\n",
    "    \n",
    "    def reparameterize(self,mu,log_var):\n",
    "        eps=tf.random.normal(log_var.shape)\n",
    "        std=tf.exp(log_var*0.5)\n",
    "        \n",
    "        z=mu+std*eps\n",
    "        return z\n",
    "    \n",
    "    def call(self,inputs,training=None):\n",
    "        mu,log_var=self.encodern(inputs)\n",
    "        z=self.reparameterize(mu,log_var)\n",
    "        x_hat=self.decoder(z)\n",
    "        return x_hat,mu,log_var"
   ]
  },
  {
   "cell_type": "markdown",
   "metadata": {},
   "source": [
    "### GAN"
   ]
  },
  {
   "cell_type": "code",
   "execution_count": null,
   "metadata": {},
   "outputs": [],
   "source": []
  },
  {
   "cell_type": "code",
   "execution_count": null,
   "metadata": {},
   "outputs": [],
   "source": []
  },
  {
   "cell_type": "code",
   "execution_count": null,
   "metadata": {},
   "outputs": [],
   "source": []
  },
  {
   "cell_type": "code",
   "execution_count": null,
   "metadata": {},
   "outputs": [],
   "source": []
  },
  {
   "cell_type": "code",
   "execution_count": null,
   "metadata": {},
   "outputs": [],
   "source": []
  },
  {
   "cell_type": "code",
   "execution_count": null,
   "metadata": {},
   "outputs": [],
   "source": []
  }
 ],
 "metadata": {
  "kernelspec": {
   "display_name": "Python 3",
   "language": "python",
   "name": "python3"
  },
  "language_info": {
   "codemirror_mode": {
    "name": "ipython",
    "version": 3
   },
   "file_extension": ".py",
   "mimetype": "text/x-python",
   "name": "python",
   "nbconvert_exporter": "python",
   "pygments_lexer": "ipython3",
   "version": "3.7.3"
  }
 },
 "nbformat": 4,
 "nbformat_minor": 2
}
